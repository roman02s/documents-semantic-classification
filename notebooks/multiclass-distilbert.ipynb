{
 "cells": [
  {
   "cell_type": "code",
   "execution_count": 1,
   "id": "a5312d92-7141-4003-a39b-bcea377781b8",
   "metadata": {},
   "outputs": [],
   "source": [
    "import pandas as pd\n",
    "import torch\n",
    "\n",
    "from datasets import load_dataset\n",
    "import evaluate\n",
    "from transformers import AutoTokenizer, AutoModelForSequenceClassification, Trainer, TrainingArguments\n",
    "from torch.utils.data import DataLoader\n",
    "import torch\n",
    "from torch import nn\n",
    "import pandas as pd\n",
    "import numpy as np\n",
    "\n",
    "from sklearn.metrics import confusion_matrix\n",
    "import matplotlib.pyplot as plt\n",
    "import seaborn as sns"
   ]
  },
  {
   "cell_type": "code",
   "execution_count": 3,
   "id": "9cb501e4-f3e3-4e5b-aed9-a477163cff29",
   "metadata": {},
   "outputs": [],
   "source": [
    "import sys\n",
    "sys.path.append(\"../\")"
   ]
  },
  {
   "cell_type": "code",
   "execution_count": 5,
   "id": "f2448b43-5a2f-42a6-98bf-e13aef39286f",
   "metadata": {},
   "outputs": [],
   "source": [
    "original_df = pd.read_csv('../data/sample.csv')"
   ]
  },
  {
   "cell_type": "code",
   "execution_count": 18,
   "id": "003d32ab-8420-475c-8724-21fd15a85be5",
   "metadata": {},
   "outputs": [
    {
     "data": {
      "text/plain": [
       "class    bill\n",
       "text      NaN\n",
       "Name: 490, dtype: object"
      ]
     },
     "execution_count": 18,
     "metadata": {},
     "output_type": "execute_result"
    }
   ],
   "source": [
    "original_df.iloc[490]"
   ]
  },
  {
   "cell_type": "code",
   "execution_count": 19,
   "id": "5dce4719-4b7e-40f9-a459-1dc266a16226",
   "metadata": {},
   "outputs": [
    {
     "data": {
      "text/plain": [
       "class\n",
       "proxy             71\n",
       "contract          70\n",
       "act               69\n",
       "application       61\n",
       "order             50\n",
       "invoice           43\n",
       "bill              42\n",
       "arrangement       40\n",
       "contract offer    25\n",
       "statute           21\n",
       "determination     10\n",
       "Name: count, dtype: int64"
      ]
     },
     "execution_count": 19,
     "metadata": {},
     "output_type": "execute_result"
    }
   ],
   "source": [
    "original_df[\"class\"].value_counts()"
   ]
  },
  {
   "cell_type": "code",
   "execution_count": 23,
   "id": "9fc375c5-ec47-462a-9589-355b7225fd55",
   "metadata": {},
   "outputs": [],
   "source": [
    "original_df.rename(columns={\"class\": \"labels\"}, inplace=True)\n",
    "# tmp = original_df[\"text\"].apply(lambda x: len(x) if type(x) is str else 0)\n",
    "# tmp[tmp == 0]"
   ]
  },
  {
   "cell_type": "code",
   "execution_count": 24,
   "id": "d59861fb-89e7-4d44-8e81-743a4d323401",
   "metadata": {},
   "outputs": [],
   "source": [
    "df = original_df.copy()"
   ]
  },
  {
   "cell_type": "code",
   "execution_count": 30,
   "id": "bc95f9c0-a4f0-413e-ba29-6b17254b4ccb",
   "metadata": {},
   "outputs": [],
   "source": [
    "# df.to_csv(\"../data/multiclass.csv\", index=False)"
   ]
  },
  {
   "cell_type": "code",
   "execution_count": 25,
   "id": "9ee6a24d-259b-4e81-8462-a9e6d55c22a2",
   "metadata": {},
   "outputs": [
    {
     "data": {
      "text/plain": [
       "array([0.8625498 , 0.87848606, 0.92031873, 0.91633466, 0.86055777,\n",
       "       0.9501992 , 0.98007968, 0.91434263, 0.90039841, 0.85856574,\n",
       "       0.95816733])"
      ]
     },
     "execution_count": 25,
     "metadata": {},
     "output_type": "execute_result"
    }
   ],
   "source": [
    "class_weights = (1 - (df['labels'].value_counts().sort_index() / len(df))).values\n",
    "class_weights"
   ]
  },
  {
   "cell_type": "code",
   "execution_count": 26,
   "id": "608ada60-f211-40d2-949f-9dc7f81f0ba9",
   "metadata": {},
   "outputs": [
    {
     "data": {
      "text/plain": [
       "tensor([0.8625, 0.8785, 0.9203, 0.9163, 0.8606, 0.9502, 0.9801, 0.9143, 0.9004,\n",
       "        0.8586, 0.9582], device='cuda:0')"
      ]
     },
     "execution_count": 26,
     "metadata": {},
     "output_type": "execute_result"
    }
   ],
   "source": [
    "device = torch.device(\"cuda:0\" if torch.cuda.is_available() else \"cpu\")\n",
    "class_weights = torch.from_numpy(class_weights).float().to(device)\n",
    "class_weights"
   ]
  },
  {
   "cell_type": "code",
   "execution_count": 27,
   "id": "f594e7bc-ff81-46ff-bd60-75c4a59e6b41",
   "metadata": {},
   "outputs": [],
   "source": [
    "def get_dataset(csv_path, test_size=0.2):\n",
    "    full_dataset = load_dataset('csv', data_files=csv_path)\n",
    "    full_dataset = full_dataset.filter(lambda example: example['text'] is not None and example['labels'] is not None)\n",
    "    full_dataset = full_dataset.class_encode_column(\"labels\")\n",
    "    dataset = full_dataset['train'].train_test_split(test_size=test_size, stratify_by_column='labels')\n",
    "    return dataset"
   ]
  },
  {
   "cell_type": "code",
   "execution_count": 31,
   "id": "ab8afcbb-c2b0-4c4e-a773-73a55d2bccb2",
   "metadata": {},
   "outputs": [
    {
     "data": {
      "application/vnd.jupyter.widget-view+json": {
       "model_id": "ced88615ca264f3da4dd7c61e5ce03a0",
       "version_major": 2,
       "version_minor": 0
      },
      "text/plain": [
       "Generating train split: 0 examples [00:00, ? examples/s]"
      ]
     },
     "metadata": {},
     "output_type": "display_data"
    },
    {
     "data": {
      "application/vnd.jupyter.widget-view+json": {
       "model_id": "95b926f01bab4252a7c64491bf152aee",
       "version_major": 2,
       "version_minor": 0
      },
      "text/plain": [
       "Filter:   0%|          | 0/502 [00:00<?, ? examples/s]"
      ]
     },
     "metadata": {},
     "output_type": "display_data"
    },
    {
     "data": {
      "application/vnd.jupyter.widget-view+json": {
       "model_id": "a36c4a83b30640dba115438cb413df95",
       "version_major": 2,
       "version_minor": 0
      },
      "text/plain": [
       "Flattening the indices:   0%|          | 0/501 [00:00<?, ? examples/s]"
      ]
     },
     "metadata": {},
     "output_type": "display_data"
    },
    {
     "data": {
      "application/vnd.jupyter.widget-view+json": {
       "model_id": "a90764b9a4a4444d8b05a609e522798b",
       "version_major": 2,
       "version_minor": 0
      },
      "text/plain": [
       "Casting to class labels:   0%|          | 0/501 [00:00<?, ? examples/s]"
      ]
     },
     "metadata": {},
     "output_type": "display_data"
    }
   ],
   "source": [
    "dataset = get_dataset(\"../data/multiclass.csv\")"
   ]
  },
  {
   "cell_type": "code",
   "execution_count": 32,
   "id": "a3a57ef3-03ff-4928-9705-b6f956a86c8e",
   "metadata": {},
   "outputs": [],
   "source": [
    "labels = sorted(df['labels'].value_counts().keys())  # .sort_index()"
   ]
  },
  {
   "cell_type": "code",
   "execution_count": 33,
   "id": "900518eb-90ab-43e3-930d-05e7820ed696",
   "metadata": {},
   "outputs": [],
   "source": [
    "id2label = {}\n",
    "label2id = {}"
   ]
  },
  {
   "cell_type": "code",
   "execution_count": 34,
   "id": "cf05dc17-80d5-4dca-be13-013eaf235fe2",
   "metadata": {},
   "outputs": [],
   "source": [
    "for i, label in enumerate(labels):\n",
    "    id2label[i] = label\n",
    "    label2id[label] = i"
   ]
  },
  {
   "cell_type": "code",
   "execution_count": 35,
   "id": "5c4a4722-845a-44be-a7d8-e053e1886886",
   "metadata": {},
   "outputs": [
    {
     "data": {
      "text/plain": [
       "9     56\n",
       "4     56\n",
       "0     55\n",
       "1     49\n",
       "8     40\n",
       "7     34\n",
       "3     33\n",
       "2     32\n",
       "5     20\n",
       "10    17\n",
       "6      8\n",
       "Name: count, dtype: int64"
      ]
     },
     "execution_count": 35,
     "metadata": {},
     "output_type": "execute_result"
    }
   ],
   "source": [
    "pd.Series(dataset['train']['labels']).value_counts()"
   ]
  },
  {
   "cell_type": "code",
   "execution_count": 36,
   "id": "61790a3b-61da-4e8d-a414-98f169afb048",
   "metadata": {},
   "outputs": [
    {
     "data": {
      "text/plain": [
       "{'labels': 9,\n",
       " 'text': 'Д О В Е Р Е Н Н О С Т Ь\\nг. Марс\\nПервого января две тысячи тринадцатого года\\n\\nЯ, гражданка России Артемьева Екатерина Григорьевна, 20.12.1982  г.р., пол женский, место рождения:Калуга, загранпаспорт 00№0000000, выдан кем дд.мм.гггг, (если имеется внутренний паспорт) паспорт 0130 000000, выдан НЕ ГУ МВД  29.02.2017, код подразделения 020-030, (для прописанных в России) зарегистрированная: г. Калуга, ул. Лесная д.9, \\nдоверяю гражданину России Артемьеву Григорию Михайловичу 28.05.1954 г.р., пол мужской, место рождения: г. Калуга, ул. Лесная д.9, паспорт 12 00 665000, выдан НЕ ГУ МВД 03.06.1996, код подразделения 200-300, зарегистрированному в России по адресу:  г. Калуга, ул. Лесная д.9,\\nпредставлять мои интересы во всех государственных административных, правоохранительных и судебных органах Российской Федерации, в том числе в межмуниципальных (районных) народных судах Москвы и Московской области, в Арбитражном суде города Москвы, в Московском городском суде, Верховном суде РФ, службах судебных приставов и иных судебных учреждениях и органах, со всеми правами, предоставленными законом заявителю, истцу, ответчику, третьему лицу, взыскателю, с правом подписания и подачи заявлений, в том числе искового заявления, заявления о пересмотре судебных актов по вновь открывшимся обстоятельствам, ходатайств, запросов, с правом отзыва искового заявления, ознакомления с материалами дела, снимать копии, заявлять отводы, представлять доказательства и участвовать в их исследовании, в соответствии с Федеральным законом «Об исполнительном производстве», а именно: знакомиться с материалами исполнительного производства, делать из них выписки, снимать с них копии, представлять дополнительные материалы, заявлять ходатайства, участвовать в совершении исполнительных действий, давать устные и письменные объяснения в процессе исполнительных действий, высказывать свои доводы и соображения по всем вопросам, возникающим в ходе исполнительного производства, возражать против ходатайств, доводов и соображений других лиц, участвующих в исполнительном производстве, задавать вопросы, заявлять ходатайства, делать заявления, подавать запросы, давать объяснения суду, представлять свои доводы во всем возникающим в ходе рассмотрения дела вопросам, возражать против доводов других лиц, участвующих в деле, обжаловать судебные акты на всех стадиях судебного процесса, с правом отзыва искового заявления, получения определений, решений и исполнительных листов на руки, ознакомления с материалами исполнительного производства, предъявлять исполнительные документы ко взысканию, заявлять ходатайства в исполнительном производстве, участвовать в исполнительных действиях, с правом отзыва исполнительного листа, заявления об окончании исполнительного производства, обжаловать действия судебного пристава-исполнителя, с правом окончания дела миром, подписания мирового соглашения, изменения размера иска, уточнения исковых требований, расписываться и получать документы на руки, без права получения имущества и/или денег, уплачивать пошлины и налоги, расписываться от моего имени и совершать все действия, связанные с выполнением данного поручения.\\nДоверенность выдана без права передоверия другому лицу.\\nДоверенность выдана сроком на три года.\\n'}"
      ]
     },
     "execution_count": 36,
     "metadata": {},
     "output_type": "execute_result"
    }
   ],
   "source": [
    "dataset['train'][0]"
   ]
  },
  {
   "cell_type": "code",
   "execution_count": 37,
   "id": "d3f7e41b-976a-4c92-98c7-e55bc63da815",
   "metadata": {},
   "outputs": [
    {
     "data": {
      "application/vnd.jupyter.widget-view+json": {
       "model_id": "0ca8a25ccd7845d1bab4cabf4becc417",
       "version_major": 2,
       "version_minor": 0
      },
      "text/plain": [
       "tokenizer_config.json:   0%|          | 0.00/28.0 [00:00<?, ?B/s]"
      ]
     },
     "metadata": {},
     "output_type": "display_data"
    },
    {
     "data": {
      "application/vnd.jupyter.widget-view+json": {
       "model_id": "b62db3b7caa44dae9c945e08f015a045",
       "version_major": 2,
       "version_minor": 0
      },
      "text/plain": [
       "config.json:   0%|          | 0.00/483 [00:00<?, ?B/s]"
      ]
     },
     "metadata": {},
     "output_type": "display_data"
    },
    {
     "data": {
      "application/vnd.jupyter.widget-view+json": {
       "model_id": "9c3fb151dc4d4fc29b8d147379eebe7f",
       "version_major": 2,
       "version_minor": 0
      },
      "text/plain": [
       "vocab.txt:   0%|          | 0.00/232k [00:00<?, ?B/s]"
      ]
     },
     "metadata": {},
     "output_type": "display_data"
    },
    {
     "data": {
      "application/vnd.jupyter.widget-view+json": {
       "model_id": "8ce0db1ef80f483d9952111d625c290a",
       "version_major": 2,
       "version_minor": 0
      },
      "text/plain": [
       "tokenizer.json:   0%|          | 0.00/466k [00:00<?, ?B/s]"
      ]
     },
     "metadata": {},
     "output_type": "display_data"
    }
   ],
   "source": [
    "model_name = \"distilbert/distilbert-base-uncased\"\n",
    "\n",
    "tokenizer = AutoTokenizer.from_pretrained(model_name, model_max_length=512)"
   ]
  },
  {
   "cell_type": "code",
   "execution_count": 38,
   "id": "5675b2d1-05f0-4de9-a88f-1d41f5928b74",
   "metadata": {},
   "outputs": [],
   "source": [
    "def preprocess_function(examples):\n",
    "    return tokenizer(examples[\"text\"], truncation=True)"
   ]
  },
  {
   "cell_type": "code",
   "execution_count": 39,
   "id": "be0f0079-4040-4bb5-88ca-256d5e1715f8",
   "metadata": {},
   "outputs": [
    {
     "data": {
      "application/vnd.jupyter.widget-view+json": {
       "model_id": "894c2994dfbd4321979d9ddee41b27fd",
       "version_major": 2,
       "version_minor": 0
      },
      "text/plain": [
       "Map:   0%|          | 0/400 [00:00<?, ? examples/s]"
      ]
     },
     "metadata": {},
     "output_type": "display_data"
    },
    {
     "data": {
      "application/vnd.jupyter.widget-view+json": {
       "model_id": "fd7137cd44ce4d4f8e0d878ac02df305",
       "version_major": 2,
       "version_minor": 0
      },
      "text/plain": [
       "Map:   0%|          | 0/101 [00:00<?, ? examples/s]"
      ]
     },
     "metadata": {},
     "output_type": "display_data"
    }
   ],
   "source": [
    "tokenized_dataset = dataset.map(preprocess_function, batched=True)"
   ]
  },
  {
   "cell_type": "code",
   "execution_count": 40,
   "id": "9b51480e-ef59-43c4-aa71-0e1480d4d390",
   "metadata": {},
   "outputs": [],
   "source": [
    "from transformers import DataCollatorWithPadding\n",
    "data_collator = DataCollatorWithPadding(tokenizer=tokenizer)"
   ]
  },
  {
   "cell_type": "code",
   "execution_count": 41,
   "id": "99e6fe63-241d-4b5f-862c-3c5b41d278c4",
   "metadata": {},
   "outputs": [
    {
     "data": {
      "application/vnd.jupyter.widget-view+json": {
       "model_id": "87ca651d48174bdea1cdf98a397e71cb",
       "version_major": 2,
       "version_minor": 0
      },
      "text/plain": [
       "model.safetensors:   0%|          | 0.00/268M [00:00<?, ?B/s]"
      ]
     },
     "metadata": {},
     "output_type": "display_data"
    },
    {
     "name": "stderr",
     "output_type": "stream",
     "text": [
      "Some weights of DistilBertForSequenceClassification were not initialized from the model checkpoint at distilbert/distilbert-base-uncased and are newly initialized: ['classifier.bias', 'classifier.weight', 'pre_classifier.bias', 'pre_classifier.weight']\n",
      "You should probably TRAIN this model on a down-stream task to be able to use it for predictions and inference.\n"
     ]
    }
   ],
   "source": [
    "model = AutoModelForSequenceClassification.from_pretrained(model_name, num_labels=len(labels), id2label=id2label, label2id=label2id)"
   ]
  },
  {
   "cell_type": "code",
   "execution_count": 42,
   "id": "ece50048-20d5-44a0-8584-704da00b7ec0",
   "metadata": {},
   "outputs": [
    {
     "data": {
      "text/plain": [
       "DistilBertForSequenceClassification(\n",
       "  (distilbert): DistilBertModel(\n",
       "    (embeddings): Embeddings(\n",
       "      (word_embeddings): Embedding(30522, 768, padding_idx=0)\n",
       "      (position_embeddings): Embedding(512, 768)\n",
       "      (LayerNorm): LayerNorm((768,), eps=1e-12, elementwise_affine=True)\n",
       "      (dropout): Dropout(p=0.1, inplace=False)\n",
       "    )\n",
       "    (transformer): Transformer(\n",
       "      (layer): ModuleList(\n",
       "        (0-5): 6 x TransformerBlock(\n",
       "          (attention): MultiHeadSelfAttention(\n",
       "            (dropout): Dropout(p=0.1, inplace=False)\n",
       "            (q_lin): Linear(in_features=768, out_features=768, bias=True)\n",
       "            (k_lin): Linear(in_features=768, out_features=768, bias=True)\n",
       "            (v_lin): Linear(in_features=768, out_features=768, bias=True)\n",
       "            (out_lin): Linear(in_features=768, out_features=768, bias=True)\n",
       "          )\n",
       "          (sa_layer_norm): LayerNorm((768,), eps=1e-12, elementwise_affine=True)\n",
       "          (ffn): FFN(\n",
       "            (dropout): Dropout(p=0.1, inplace=False)\n",
       "            (lin1): Linear(in_features=768, out_features=3072, bias=True)\n",
       "            (lin2): Linear(in_features=3072, out_features=768, bias=True)\n",
       "            (activation): GELUActivation()\n",
       "          )\n",
       "          (output_layer_norm): LayerNorm((768,), eps=1e-12, elementwise_affine=True)\n",
       "        )\n",
       "      )\n",
       "    )\n",
       "  )\n",
       "  (pre_classifier): Linear(in_features=768, out_features=768, bias=True)\n",
       "  (classifier): Linear(in_features=768, out_features=11, bias=True)\n",
       "  (dropout): Dropout(p=0.2, inplace=False)\n",
       ")"
      ]
     },
     "execution_count": 42,
     "metadata": {},
     "output_type": "execute_result"
    }
   ],
   "source": [
    "model.to(device)"
   ]
  },
  {
   "cell_type": "code",
   "execution_count": 43,
   "id": "a275d5f6-be75-4c8f-83c8-b6e4907b3e10",
   "metadata": {},
   "outputs": [
    {
     "name": "stderr",
     "output_type": "stream",
     "text": [
      "/nfs/home/rsim/anaconda3/lib/python3.11/site-packages/transformers/optimization.py:429: FutureWarning: This implementation of AdamW is deprecated and will be removed in a future version. Use the PyTorch implementation torch.optim.AdamW instead, or set `no_deprecation_warning=True` to disable this warning\n",
      "  warnings.warn(\n"
     ]
    }
   ],
   "source": [
    "from transformers import AdamW, get_scheduler\n",
    "\n",
    "dataset_len = (dataset['train'].num_rows + dataset['test'].num_rows)\n",
    "\n",
    "optimizer = AdamW(model.parameters(), lr=2e-5)\n",
    "num_epochs = 3\n",
    "num_training_steps = num_epochs * dataset_len\n",
    "\n",
    "\n",
    "lr_scheduler = get_scheduler(\n",
    "    \"cosine\",\n",
    "    optimizer=optimizer,\n",
    "    num_warmup_steps= int(0.1 * num_epochs * dataset_len),\n",
    "    num_training_steps=num_training_steps\n",
    ")"
   ]
  },
  {
   "cell_type": "code",
   "execution_count": 44,
   "id": "e5e0ed17-ef54-4514-9de0-2bf57887e97b",
   "metadata": {},
   "outputs": [],
   "source": [
    "class CustomTrainer(Trainer):\n",
    "    def compute_loss(self, model, inputs, return_outputs=False):\n",
    "        labels = inputs.get(\"labels\")\n",
    "        \n",
    "        outputs = model(**inputs)\n",
    "        logits = outputs.get('logits')\n",
    "        \n",
    "        loss_fct = nn.CrossEntropyLoss(weight=class_weights)\n",
    "        loss = loss_fct(logits.view(-1, self.model.config.num_labels), labels.view(-1))\n",
    "        \n",
    "        return (loss, outputs) if return_outputs else loss"
   ]
  },
  {
   "cell_type": "code",
   "execution_count": 45,
   "id": "9d78950b-4218-4321-8951-b92866076ad9",
   "metadata": {},
   "outputs": [
    {
     "data": {
      "application/vnd.jupyter.widget-view+json": {
       "model_id": "8275bb1dbf3b48dc9b756400d84dbf42",
       "version_major": 2,
       "version_minor": 0
      },
      "text/plain": [
       "Downloading builder script:   0%|          | 0.00/6.77k [00:00<?, ?B/s]"
      ]
     },
     "metadata": {},
     "output_type": "display_data"
    }
   ],
   "source": [
    "f1_metric = evaluate.load('f1')\n",
    "\n",
    "training_args = TrainingArguments(\n",
    "    output_dir=\"./results/multiclass-distilbert2/\",\n",
    "    num_train_epochs=50,\n",
    "    per_device_train_batch_size=24,\n",
    "    per_device_eval_batch_size=24,\n",
    "    warmup_steps=200,\n",
    "    weight_decay=0.01,\n",
    "    logging_strategy='no',\n",
    "    evaluation_strategy=\"steps\",\n",
    "    eval_steps=50,\n",
    "    save_only_model=True,\n",
    "    save_strategy=\"steps\",\n",
    "    save_steps=50,\n",
    "    save_total_limit=2,\n",
    "    metric_for_best_model='f1',\n",
    "    greater_is_better=True,\n",
    "    eval_accumulation_steps=32,\n",
    "    fp16=True,  # mixed precision\n",
    "    load_best_model_at_end = True,\n",
    ")\n",
    "\n",
    "def compute_metrics(eval_pred):\n",
    "    logits, labels = eval_pred\n",
    "    predictions = np.argmax(logits, axis=-1)\n",
    "    return f1_metric.compute(predictions=predictions, references=labels, average='macro')\n",
    "\n",
    "trainer = CustomTrainer(\n",
    "    model=model,\n",
    "    args=training_args,\n",
    "    train_dataset=tokenized_dataset[\"train\"],\n",
    "    eval_dataset=tokenized_dataset[\"test\"],\n",
    "    compute_metrics=compute_metrics,\n",
    "    tokenizer=tokenizer,\n",
    "    data_collator=data_collator,\n",
    "    optimizers=[optimizer, lr_scheduler],\n",
    ")"
   ]
  },
  {
   "cell_type": "code",
   "execution_count": 46,
   "id": "ade4a6c1-341f-497b-896d-8eb8fcd577b3",
   "metadata": {},
   "outputs": [
    {
     "name": "stderr",
     "output_type": "stream",
     "text": [
      "Failed to detect the name of this notebook, you can set it manually with the WANDB_NOTEBOOK_NAME environment variable to enable code saving.\n",
      "\u001b[34m\u001b[1mwandb\u001b[0m: Currently logged in as: \u001b[33maaromaaa89\u001b[0m (\u001b[33mroman02s\u001b[0m). Use \u001b[1m`wandb login --relogin`\u001b[0m to force relogin\n"
     ]
    },
    {
     "data": {
      "text/html": [
       "wandb version 0.16.6 is available!  To upgrade, please run:\n",
       " $ pip install wandb --upgrade"
      ],
      "text/plain": [
       "<IPython.core.display.HTML object>"
      ]
     },
     "metadata": {},
     "output_type": "display_data"
    },
    {
     "data": {
      "text/html": [
       "Tracking run with wandb version 0.16.4"
      ],
      "text/plain": [
       "<IPython.core.display.HTML object>"
      ]
     },
     "metadata": {},
     "output_type": "display_data"
    },
    {
     "data": {
      "text/html": [
       "Run data is saved locally in <code>/nfs/home/rsim/цп-04-12/notebooks/wandb/run-20240412_194159-zl7no1rt</code>"
      ],
      "text/plain": [
       "<IPython.core.display.HTML object>"
      ]
     },
     "metadata": {},
     "output_type": "display_data"
    },
    {
     "data": {
      "text/html": [
       "Syncing run <strong><a href='https://wandb.ai/roman02s/huggingface/runs/zl7no1rt' target=\"_blank\">balmy-thunder-23</a></strong> to <a href='https://wandb.ai/roman02s/huggingface' target=\"_blank\">Weights & Biases</a> (<a href='https://wandb.me/run' target=\"_blank\">docs</a>)<br/>"
      ],
      "text/plain": [
       "<IPython.core.display.HTML object>"
      ]
     },
     "metadata": {},
     "output_type": "display_data"
    },
    {
     "data": {
      "text/html": [
       " View project at <a href='https://wandb.ai/roman02s/huggingface' target=\"_blank\">https://wandb.ai/roman02s/huggingface</a>"
      ],
      "text/plain": [
       "<IPython.core.display.HTML object>"
      ]
     },
     "metadata": {},
     "output_type": "display_data"
    },
    {
     "data": {
      "text/html": [
       " View run at <a href='https://wandb.ai/roman02s/huggingface/runs/zl7no1rt' target=\"_blank\">https://wandb.ai/roman02s/huggingface/runs/zl7no1rt</a>"
      ],
      "text/plain": [
       "<IPython.core.display.HTML object>"
      ]
     },
     "metadata": {},
     "output_type": "display_data"
    },
    {
     "name": "stderr",
     "output_type": "stream",
     "text": [
      "/nfs/home/rsim/anaconda3/lib/python3.11/site-packages/torch/nn/parallel/_functions.py:68: UserWarning: Was asked to gather along dimension 0, but all input tensors were scalars; will instead unsqueeze and return a vector.\n",
      "  warnings.warn('Was asked to gather along dimension 0, but all '\n"
     ]
    },
    {
     "data": {
      "text/html": [
       "\n",
       "    <div>\n",
       "      \n",
       "      <progress value='150' max='150' style='width:300px; height:20px; vertical-align: middle;'></progress>\n",
       "      [150/150 01:02, Epoch 50/50]\n",
       "    </div>\n",
       "    <table border=\"1\" class=\"dataframe\">\n",
       "  <thead>\n",
       " <tr style=\"text-align: left;\">\n",
       "      <th>Step</th>\n",
       "      <th>Training Loss</th>\n",
       "      <th>Validation Loss</th>\n",
       "      <th>F1</th>\n",
       "    </tr>\n",
       "  </thead>\n",
       "  <tbody>\n",
       "    <tr>\n",
       "      <td>50</td>\n",
       "      <td>No log</td>\n",
       "      <td>2.192146</td>\n",
       "      <td>0.150677</td>\n",
       "    </tr>\n",
       "    <tr>\n",
       "      <td>100</td>\n",
       "      <td>No log</td>\n",
       "      <td>1.206110</td>\n",
       "      <td>0.552543</td>\n",
       "    </tr>\n",
       "    <tr>\n",
       "      <td>150</td>\n",
       "      <td>No log</td>\n",
       "      <td>0.467366</td>\n",
       "      <td>0.899650</td>\n",
       "    </tr>\n",
       "  </tbody>\n",
       "</table><p>"
      ],
      "text/plain": [
       "<IPython.core.display.HTML object>"
      ]
     },
     "metadata": {},
     "output_type": "display_data"
    },
    {
     "name": "stderr",
     "output_type": "stream",
     "text": [
      "/nfs/home/rsim/anaconda3/lib/python3.11/site-packages/torch/nn/parallel/_functions.py:68: UserWarning: Was asked to gather along dimension 0, but all input tensors were scalars; will instead unsqueeze and return a vector.\n",
      "  warnings.warn('Was asked to gather along dimension 0, but all '\n",
      "/nfs/home/rsim/anaconda3/lib/python3.11/site-packages/torch/nn/parallel/_functions.py:68: UserWarning: Was asked to gather along dimension 0, but all input tensors were scalars; will instead unsqueeze and return a vector.\n",
      "  warnings.warn('Was asked to gather along dimension 0, but all '\n"
     ]
    },
    {
     "data": {
      "text/plain": [
       "TrainOutput(global_step=150, training_loss=1.636244405110677, metrics={'train_runtime': 86.9317, 'train_samples_per_second': 230.066, 'train_steps_per_second': 1.725, 'total_flos': 2649773199360000.0, 'train_loss': 1.636244405110677, 'epoch': 50.0})"
      ]
     },
     "execution_count": 46,
     "metadata": {},
     "output_type": "execute_result"
    }
   ],
   "source": [
    "trainer.train()"
   ]
  },
  {
   "cell_type": "code",
   "execution_count": 47,
   "id": "92c46925",
   "metadata": {},
   "outputs": [
    {
     "name": "stderr",
     "output_type": "stream",
     "text": [
      "100%|██████████████████████████████████████████████████████████████████████████████████████████████████████████████████████████████████████| 101/101 [00:01<00:00, 92.31it/s]\n"
     ]
    }
   ],
   "source": [
    "from tqdm import tqdm\n",
    "\n",
    "\n",
    "y_pred = []\n",
    "y_true = tokenized_dataset[\"test\"]['labels']\n",
    "with torch.no_grad():\n",
    "    for i in tqdm(range(len(tokenized_dataset[\"test\"]))):\n",
    "        logits = model(**tokenizer(tokenized_dataset[\"test\"][i]['text'], max_length=512, truncation=True, return_tensors=\"pt\").to(device))\n",
    "    \n",
    "        predicted_class_id = logits.logits.argmax().item()\n",
    "        # model.config.id2label[predicted_class_id]\n",
    "    \n",
    "        y_pred.append(predicted_class_id)\n"
   ]
  },
  {
   "cell_type": "code",
   "execution_count": 48,
   "id": "8f1679d5",
   "metadata": {},
   "outputs": [
    {
     "data": {
      "text/plain": [
       "0.899650095046614"
      ]
     },
     "execution_count": 48,
     "metadata": {},
     "output_type": "execute_result"
    }
   ],
   "source": [
    "from sklearn.metrics import f1_score, recall_score, precision_score, classification_report\n",
    "\n",
    "f1_score(y_true, y_pred, average='macro')"
   ]
  },
  {
   "cell_type": "code",
   "execution_count": 49,
   "id": "89c3ea2c",
   "metadata": {},
   "outputs": [
    {
     "data": {
      "text/plain": [
       "0.8861111111111111"
      ]
     },
     "execution_count": 49,
     "metadata": {},
     "output_type": "execute_result"
    }
   ],
   "source": [
    "recall_score(y_true, y_pred, average='macro')"
   ]
  },
  {
   "cell_type": "code",
   "execution_count": 50,
   "id": "963760ea",
   "metadata": {},
   "outputs": [
    {
     "data": {
      "text/plain": [
       "0.9430110442142527"
      ]
     },
     "execution_count": 50,
     "metadata": {},
     "output_type": "execute_result"
    }
   ],
   "source": [
    "precision_score(y_true, y_pred, average='macro')"
   ]
  },
  {
   "cell_type": "code",
   "execution_count": 51,
   "id": "277e0f2f",
   "metadata": {},
   "outputs": [
    {
     "name": "stdout",
     "output_type": "stream",
     "text": [
      "              precision    recall  f1-score   support\n",
      "\n",
      "           0       0.93      1.00      0.97        14\n",
      "           1       0.92      1.00      0.96        12\n",
      "           2       0.88      0.88      0.88         8\n",
      "           3       1.00      1.00      1.00         8\n",
      "           4       0.82      1.00      0.90        14\n",
      "           5       1.00      0.40      0.57         5\n",
      "           6       1.00      1.00      1.00         2\n",
      "           7       1.00      0.89      0.94         9\n",
      "           8       0.82      0.90      0.86        10\n",
      "           9       1.00      0.93      0.97        15\n",
      "          10       1.00      0.75      0.86         4\n",
      "\n",
      "    accuracy                           0.92       101\n",
      "   macro avg       0.94      0.89      0.90       101\n",
      "weighted avg       0.93      0.92      0.92       101\n",
      "\n"
     ]
    }
   ],
   "source": [
    "print(classification_report(y_true, y_pred))"
   ]
  },
  {
   "cell_type": "code",
   "execution_count": 38,
   "id": "ebac4950",
   "metadata": {},
   "outputs": [],
   "source": [
    "eval_loss_history = []\n",
    "eval_f1_history = []\n",
    "steps = []\n",
    "for obj in trainer.state.log_history:\n",
    "    eval_loss_history.append(obj.get('eval_loss'))\n",
    "    steps.append(obj.get('step'))\n",
    "    eval_f1_history.append(obj.get('eval_f1'))"
   ]
  },
  {
   "cell_type": "code",
   "execution_count": 39,
   "id": "8f147b68",
   "metadata": {},
   "outputs": [],
   "source": [
    "eval_loss_history = eval_loss_history[:-1]\n",
    "eval_f1_history = eval_f1_history[:-1]\n",
    "steps = steps[:-1]"
   ]
  },
  {
   "cell_type": "code",
   "execution_count": 40,
   "id": "339da500",
   "metadata": {},
   "outputs": [
    {
     "data": {
      "text/plain": [
       "<Axes: >"
      ]
     },
     "execution_count": 40,
     "metadata": {},
     "output_type": "execute_result"
    },
    {
     "data": {
      "image/png": "[encoded data removed]",
      "text/plain": [
       "<Figure size 640x480 with 1 Axes>"
      ]
     },
     "metadata": {},
     "output_type": "display_data"
    }
   ],
   "source": [
    "sns.lineplot(x=steps[:len(steps)//4], y=eval_loss_history[:len(eval_loss_history)//4])"
   ]
  },
  {
   "cell_type": "code",
   "execution_count": 41,
   "id": "95c1ac38",
   "metadata": {},
   "outputs": [
    {
     "data": {
      "text/plain": [
       "<Axes: >"
      ]
     },
     "execution_count": 41,
     "metadata": {},
     "output_type": "execute_result"
    },
    {
     "data": {
      "image/png": "[encoded data removed]",
      "text/plain": [
       "<Figure size 640x480 with 1 Axes>"
      ]
     },
     "metadata": {},
     "output_type": "display_data"
    }
   ],
   "source": [
    "sns.lineplot(x=steps[:len(steps)//3], y=eval_f1_history[:len(steps)//3])"
   ]
  },
  {
   "cell_type": "code",
   "execution_count": null,
   "id": "0839a30c",
   "metadata": {},
   "outputs": [],
   "source": []
  }
 ],
 "metadata": {
  "kernelspec": {
   "display_name": "Python 3 (ipykernel)",
   "language": "python",
   "name": "python3"
  },
  "language_info": {
   "codemirror_mode": {
    "name": "ipython",
    "version": 3
   },
   "file_extension": ".py",
   "mimetype": "text/x-python",
   "name": "python",
   "nbconvert_exporter": "python",
   "pygments_lexer": "ipython3",
   "version": "3.11.5"
  }
 },
 "nbformat": 4,
 "nbformat_minor": 5
}
