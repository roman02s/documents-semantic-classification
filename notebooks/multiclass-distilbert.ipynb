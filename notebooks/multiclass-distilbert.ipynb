{
 "cells": [
  {
   "cell_type": "code",
   "execution_count": 1,
   "id": "a5312d92-7141-4003-a39b-bcea377781b8",
   "metadata": {},
   "outputs": [],
   "source": [
    "import pandas as pd\n",
    "import torch\n",
    "\n",
    "from datasets import load_dataset\n",
    "import evaluate\n",
    "from transformers import AutoTokenizer, AutoModelForSequenceClassification, Trainer, TrainingArguments\n",
    "from torch.utils.data import DataLoader\n",
    "import torch\n",
    "from torch import nn\n",
    "import pandas as pd\n",
    "import numpy as np\n",
    "\n",
    "from sklearn.metrics import confusion_matrix\n",
    "import matplotlib.pyplot as plt\n",
    "import seaborn as sns"
   ]
  },
  {
   "cell_type": "code",
   "execution_count": 2,
   "id": "f2448b43-5a2f-42a6-98bf-e13aef39286f",
   "metadata": {},
   "outputs": [],
   "source": [
    "original_df = pd.read_csv('all_parts.csv')"
   ]
  },
  {
   "cell_type": "code",
   "execution_count": 3,
   "id": "5dce4719-4b7e-40f9-a459-1dc266a16226",
   "metadata": {},
   "outputs": [
    {
     "data": {
      "text/html": [
       "<div>\n",
       "<style scoped>\n",
       "    .dataframe tbody tr th:only-of-type {\n",
       "        vertical-align: middle;\n",
       "    }\n",
       "\n",
       "    .dataframe tbody tr th {\n",
       "        vertical-align: top;\n",
       "    }\n",
       "\n",
       "    .dataframe thead th {\n",
       "        text-align: right;\n",
       "    }\n",
       "</style>\n",
       "<table border=\"1\" class=\"dataframe\">\n",
       "  <thead>\n",
       "    <tr style=\"text-align: right;\">\n",
       "      <th></th>\n",
       "      <th>id</th>\n",
       "      <th>article_date_timestamp</th>\n",
       "      <th>article_title</th>\n",
       "      <th>article_url</th>\n",
       "      <th>source</th>\n",
       "      <th>score</th>\n",
       "      <th>category</th>\n",
       "      <th>content</th>\n",
       "    </tr>\n",
       "  </thead>\n",
       "  <tbody>\n",
       "    <tr>\n",
       "      <th>0</th>\n",
       "      <td>229</td>\n",
       "      <td>1.695244e+09</td>\n",
       "      <td>Phishing victim sends eye-watering $4.5M in US...</td>\n",
       "      <td>https://cointelegraph.com/news/phishing-victim...</td>\n",
       "      <td>Cointelegraph</td>\n",
       "      <td>0</td>\n",
       "      <td>none</td>\n",
       "      <td>An unwitting cryptocurrency holder has reporte...</td>\n",
       "    </tr>\n",
       "    <tr>\n",
       "      <th>1</th>\n",
       "      <td>237</td>\n",
       "      <td>1.695280e+09</td>\n",
       "      <td>Venmo добавил поддержку стейблкоина PayPal</td>\n",
       "      <td>https://forklog.com/news/venmo-dobavil-podderz...</td>\n",
       "      <td>Forklog</td>\n",
       "      <td>0</td>\n",
       "      <td>none</td>\n",
       "      <td>NaN</td>\n",
       "    </tr>\n",
       "    <tr>\n",
       "      <th>2</th>\n",
       "      <td>238</td>\n",
       "      <td>0.000000e+00</td>\n",
       "      <td>Джейми Куттс: «Выбросы CO2 в сети Биткоина про...</td>\n",
       "      <td>https://bits.media/dzheymi-kutts-vybrosy-co2-v...</td>\n",
       "      <td>BitsMedia</td>\n",
       "      <td>0</td>\n",
       "      <td>none</td>\n",
       "      <td>Аналитик Bloomberg Intelligence Джейми Куттс з...</td>\n",
       "    </tr>\n",
       "    <tr>\n",
       "      <th>3</th>\n",
       "      <td>239</td>\n",
       "      <td>0.000000e+00</td>\n",
       "      <td>Пользователи Venmo получили доступ к платежам ...</td>\n",
       "      <td>https://bits.media/polzovateli-venmo-poluchili...</td>\n",
       "      <td>BitsMedia</td>\n",
       "      <td>0</td>\n",
       "      <td>none</td>\n",
       "      <td>Крупная американская платежная компания PayPal...</td>\n",
       "    </tr>\n",
       "    <tr>\n",
       "      <th>4</th>\n",
       "      <td>240</td>\n",
       "      <td>1.695282e+09</td>\n",
       "      <td>Минфин определил порядок бухгалтерского учета ...</td>\n",
       "      <td>https://forklog.com/news/minfin-opredelil-pory...</td>\n",
       "      <td>Forklog</td>\n",
       "      <td>0</td>\n",
       "      <td>none</td>\n",
       "      <td>NaN</td>\n",
       "    </tr>\n",
       "    <tr>\n",
       "      <th>...</th>\n",
       "      <td>...</td>\n",
       "      <td>...</td>\n",
       "      <td>...</td>\n",
       "      <td>...</td>\n",
       "      <td>...</td>\n",
       "      <td>...</td>\n",
       "      <td>...</td>\n",
       "      <td>...</td>\n",
       "    </tr>\n",
       "    <tr>\n",
       "      <th>4018</th>\n",
       "      <td>6434</td>\n",
       "      <td>1.710577e+09</td>\n",
       "      <td>G7 industry ministers commit to \"safe and reli...</td>\n",
       "      <td>http://en.people.cn/n3/2024/0316/c90000-201458...</td>\n",
       "      <td>People's Daily</td>\n",
       "      <td>1</td>\n",
       "      <td>ai</td>\n",
       "      <td>G7 industry ministers commit to \"safe and reli...</td>\n",
       "    </tr>\n",
       "    <tr>\n",
       "      <th>4019</th>\n",
       "      <td>6435</td>\n",
       "      <td>1.710763e+09</td>\n",
       "      <td>Saudi Arabia establishes AI Centre of Excellen...</td>\n",
       "      <td>https://www.investing.com/news/stock-market-ne...</td>\n",
       "      <td>Investing.com</td>\n",
       "      <td>1</td>\n",
       "      <td>ai</td>\n",
       "      <td>Published Mar 18, 2024 07:49AM ET\\n\\n© Reuters...</td>\n",
       "    </tr>\n",
       "    <tr>\n",
       "      <th>4020</th>\n",
       "      <td>6436</td>\n",
       "      <td>1.710763e+09</td>\n",
       "      <td>China’s PBOC facilitates global access to e-CN...</td>\n",
       "      <td>https://www.cryptopolitan.com/china-facilitate...</td>\n",
       "      <td>Cryptopolitan</td>\n",
       "      <td>1</td>\n",
       "      <td>cbdc</td>\n",
       "      <td>The People’s Bank of China (PBOC) has recently...</td>\n",
       "    </tr>\n",
       "    <tr>\n",
       "      <th>4021</th>\n",
       "      <td>6437</td>\n",
       "      <td>1.710519e+09</td>\n",
       "      <td>Swiss digital identity law approved by parliam...</td>\n",
       "      <td>https://www.biometricupdate.com/202403/swiss-d...</td>\n",
       "      <td>Biometric</td>\n",
       "      <td>1</td>\n",
       "      <td>bid</td>\n",
       "      <td>The Swiss parliament is preparing to debate a ...</td>\n",
       "    </tr>\n",
       "    <tr>\n",
       "      <th>4022</th>\n",
       "      <td>6438</td>\n",
       "      <td>1.710766e+09</td>\n",
       "      <td>ECB published Working paper on Determinants of...</td>\n",
       "      <td>https://www.ecb.europa.eu/pub/pdf/scpwps/ecb.w...</td>\n",
       "      <td>ЕЦБ</td>\n",
       "      <td>0</td>\n",
       "      <td>oth</td>\n",
       "      <td>NaN</td>\n",
       "    </tr>\n",
       "  </tbody>\n",
       "</table>\n",
       "<p>4023 rows × 8 columns</p>\n",
       "</div>"
      ],
      "text/plain": [
       "        id  article_date_timestamp  \\\n",
       "0      229            1.695244e+09   \n",
       "1      237            1.695280e+09   \n",
       "2      238            0.000000e+00   \n",
       "3      239            0.000000e+00   \n",
       "4      240            1.695282e+09   \n",
       "...    ...                     ...   \n",
       "4018  6434            1.710577e+09   \n",
       "4019  6435            1.710763e+09   \n",
       "4020  6436            1.710763e+09   \n",
       "4021  6437            1.710519e+09   \n",
       "4022  6438            1.710766e+09   \n",
       "\n",
       "                                          article_title  \\\n",
       "0     Phishing victim sends eye-watering $4.5M in US...   \n",
       "1            Venmo добавил поддержку стейблкоина PayPal   \n",
       "2     Джейми Куттс: «Выбросы CO2 в сети Биткоина про...   \n",
       "3     Пользователи Venmo получили доступ к платежам ...   \n",
       "4     Минфин определил порядок бухгалтерского учета ...   \n",
       "...                                                 ...   \n",
       "4018  G7 industry ministers commit to \"safe and reli...   \n",
       "4019  Saudi Arabia establishes AI Centre of Excellen...   \n",
       "4020  China’s PBOC facilitates global access to e-CN...   \n",
       "4021  Swiss digital identity law approved by parliam...   \n",
       "4022  ECB published Working paper on Determinants of...   \n",
       "\n",
       "                                            article_url          source  \\\n",
       "0     https://cointelegraph.com/news/phishing-victim...   Cointelegraph   \n",
       "1     https://forklog.com/news/venmo-dobavil-podderz...         Forklog   \n",
       "2     https://bits.media/dzheymi-kutts-vybrosy-co2-v...       BitsMedia   \n",
       "3     https://bits.media/polzovateli-venmo-poluchili...       BitsMedia   \n",
       "4     https://forklog.com/news/minfin-opredelil-pory...         Forklog   \n",
       "...                                                 ...             ...   \n",
       "4018  http://en.people.cn/n3/2024/0316/c90000-201458...  People's Daily   \n",
       "4019  https://www.investing.com/news/stock-market-ne...   Investing.com   \n",
       "4020  https://www.cryptopolitan.com/china-facilitate...   Cryptopolitan   \n",
       "4021  https://www.biometricupdate.com/202403/swiss-d...       Biometric   \n",
       "4022  https://www.ecb.europa.eu/pub/pdf/scpwps/ecb.w...             ЕЦБ   \n",
       "\n",
       "      score category                                            content  \n",
       "0         0     none  An unwitting cryptocurrency holder has reporte...  \n",
       "1         0     none                                                NaN  \n",
       "2         0     none  Аналитик Bloomberg Intelligence Джейми Куттс з...  \n",
       "3         0     none  Крупная американская платежная компания PayPal...  \n",
       "4         0     none                                                NaN  \n",
       "...     ...      ...                                                ...  \n",
       "4018      1       ai  G7 industry ministers commit to \"safe and reli...  \n",
       "4019      1       ai  Published Mar 18, 2024 07:49AM ET\\n\\n© Reuters...  \n",
       "4020      1     cbdc  The People’s Bank of China (PBOC) has recently...  \n",
       "4021      1      bid  The Swiss parliament is preparing to debate a ...  \n",
       "4022      0      oth                                                NaN  \n",
       "\n",
       "[4023 rows x 8 columns]"
      ]
     },
     "execution_count": 3,
     "metadata": {},
     "output_type": "execute_result"
    }
   ],
   "source": [
    "original_df"
   ]
  },
  {
   "cell_type": "code",
   "execution_count": 4,
   "id": "a7cf4da6-937f-4993-9f9b-86966ad26a1a",
   "metadata": {},
   "outputs": [],
   "source": [
    "cleaned_df = original_df.loc[:, ['category', 'article_title', 'content']].dropna()"
   ]
  },
  {
   "cell_type": "code",
   "execution_count": 5,
   "id": "8e24bdcb-5ae2-46e0-8ea7-4fc9420f4507",
   "metadata": {},
   "outputs": [
    {
     "data": {
      "text/html": [
       "<div>\n",
       "<style scoped>\n",
       "    .dataframe tbody tr th:only-of-type {\n",
       "        vertical-align: middle;\n",
       "    }\n",
       "\n",
       "    .dataframe tbody tr th {\n",
       "        vertical-align: top;\n",
       "    }\n",
       "\n",
       "    .dataframe thead th {\n",
       "        text-align: right;\n",
       "    }\n",
       "</style>\n",
       "<table border=\"1\" class=\"dataframe\">\n",
       "  <thead>\n",
       "    <tr style=\"text-align: right;\">\n",
       "      <th></th>\n",
       "      <th>category</th>\n",
       "      <th>article_title</th>\n",
       "      <th>content</th>\n",
       "    </tr>\n",
       "  </thead>\n",
       "  <tbody>\n",
       "    <tr>\n",
       "      <th>0</th>\n",
       "      <td>none</td>\n",
       "      <td>Phishing victim sends eye-watering $4.5M in US...</td>\n",
       "      <td>An unwitting cryptocurrency holder has reporte...</td>\n",
       "    </tr>\n",
       "    <tr>\n",
       "      <th>2</th>\n",
       "      <td>none</td>\n",
       "      <td>Джейми Куттс: «Выбросы CO2 в сети Биткоина про...</td>\n",
       "      <td>Аналитик Bloomberg Intelligence Джейми Куттс з...</td>\n",
       "    </tr>\n",
       "    <tr>\n",
       "      <th>3</th>\n",
       "      <td>none</td>\n",
       "      <td>Пользователи Venmo получили доступ к платежам ...</td>\n",
       "      <td>Крупная американская платежная компания PayPal...</td>\n",
       "    </tr>\n",
       "    <tr>\n",
       "      <th>8</th>\n",
       "      <td>none</td>\n",
       "      <td>Хешрейт по осени считают: как регулируют майни...</td>\n",
       "      <td>Майнинг биткоина и других криптовалют — крупне...</td>\n",
       "    </tr>\n",
       "    <tr>\n",
       "      <th>9</th>\n",
       "      <td>none</td>\n",
       "      <td>Bitcoin Holding Above $26K Is ‘Remarkable’ as ...</td>\n",
       "      <td>Bitcoin Holding Above $26K Is ‘Remarkable’ as ...</td>\n",
       "    </tr>\n",
       "    <tr>\n",
       "      <th>...</th>\n",
       "      <td>...</td>\n",
       "      <td>...</td>\n",
       "      <td>...</td>\n",
       "    </tr>\n",
       "    <tr>\n",
       "      <th>4017</th>\n",
       "      <td>ai</td>\n",
       "      <td>Abu Dhabi sets up investment firm to achieve A...</td>\n",
       "      <td>The United Arab Emirates is inching forward wi...</td>\n",
       "    </tr>\n",
       "    <tr>\n",
       "      <th>4018</th>\n",
       "      <td>ai</td>\n",
       "      <td>G7 industry ministers commit to \"safe and reli...</td>\n",
       "      <td>G7 industry ministers commit to \"safe and reli...</td>\n",
       "    </tr>\n",
       "    <tr>\n",
       "      <th>4019</th>\n",
       "      <td>ai</td>\n",
       "      <td>Saudi Arabia establishes AI Centre of Excellen...</td>\n",
       "      <td>Published Mar 18, 2024 07:49AM ET\\n\\n© Reuters...</td>\n",
       "    </tr>\n",
       "    <tr>\n",
       "      <th>4020</th>\n",
       "      <td>cbdc</td>\n",
       "      <td>China’s PBOC facilitates global access to e-CN...</td>\n",
       "      <td>The People’s Bank of China (PBOC) has recently...</td>\n",
       "    </tr>\n",
       "    <tr>\n",
       "      <th>4021</th>\n",
       "      <td>bid</td>\n",
       "      <td>Swiss digital identity law approved by parliam...</td>\n",
       "      <td>The Swiss parliament is preparing to debate a ...</td>\n",
       "    </tr>\n",
       "  </tbody>\n",
       "</table>\n",
       "<p>2093 rows × 3 columns</p>\n",
       "</div>"
      ],
      "text/plain": [
       "     category                                      article_title  \\\n",
       "0        none  Phishing victim sends eye-watering $4.5M in US...   \n",
       "2        none  Джейми Куттс: «Выбросы CO2 в сети Биткоина про...   \n",
       "3        none  Пользователи Venmo получили доступ к платежам ...   \n",
       "8        none  Хешрейт по осени считают: как регулируют майни...   \n",
       "9        none  Bitcoin Holding Above $26K Is ‘Remarkable’ as ...   \n",
       "...       ...                                                ...   \n",
       "4017       ai  Abu Dhabi sets up investment firm to achieve A...   \n",
       "4018       ai  G7 industry ministers commit to \"safe and reli...   \n",
       "4019       ai  Saudi Arabia establishes AI Centre of Excellen...   \n",
       "4020     cbdc  China’s PBOC facilitates global access to e-CN...   \n",
       "4021      bid  Swiss digital identity law approved by parliam...   \n",
       "\n",
       "                                                content  \n",
       "0     An unwitting cryptocurrency holder has reporte...  \n",
       "2     Аналитик Bloomberg Intelligence Джейми Куттс з...  \n",
       "3     Крупная американская платежная компания PayPal...  \n",
       "8     Майнинг биткоина и других криптовалют — крупне...  \n",
       "9     Bitcoin Holding Above $26K Is ‘Remarkable’ as ...  \n",
       "...                                                 ...  \n",
       "4017  The United Arab Emirates is inching forward wi...  \n",
       "4018  G7 industry ministers commit to \"safe and reli...  \n",
       "4019  Published Mar 18, 2024 07:49AM ET\\n\\n© Reuters...  \n",
       "4020  The People’s Bank of China (PBOC) has recently...  \n",
       "4021  The Swiss parliament is preparing to debate a ...  \n",
       "\n",
       "[2093 rows x 3 columns]"
      ]
     },
     "execution_count": 5,
     "metadata": {},
     "output_type": "execute_result"
    }
   ],
   "source": [
    "cleaned_df"
   ]
  },
  {
   "cell_type": "code",
   "execution_count": 6,
   "id": "12a5c09c-d7a7-4f92-918c-049e1d6c2246",
   "metadata": {},
   "outputs": [
    {
     "data": {
      "text/plain": [
       "category\n",
       "none    1102\n",
       "cr       454\n",
       "ai       159\n",
       "cbdc     150\n",
       "oth       99\n",
       "bid       57\n",
       "tok       51\n",
       "defi      18\n",
       "api        3\n",
       "Name: count, dtype: int64"
      ]
     },
     "execution_count": 6,
     "metadata": {},
     "output_type": "execute_result"
    }
   ],
   "source": [
    "cleaned_df['category'].value_counts()"
   ]
  },
  {
   "cell_type": "code",
   "execution_count": 7,
   "id": "ad3ffb65",
   "metadata": {},
   "outputs": [],
   "source": [
    "# cleaned_df.loc[cleaned_df['category']=='none', 'category'] = 'oth'"
   ]
  },
  {
   "cell_type": "code",
   "execution_count": 8,
   "id": "0d703f8a",
   "metadata": {},
   "outputs": [
    {
     "data": {
      "text/plain": [
       "category\n",
       "none    1102\n",
       "cr       454\n",
       "ai       159\n",
       "cbdc     150\n",
       "oth       99\n",
       "bid       57\n",
       "tok       51\n",
       "defi      18\n",
       "api        3\n",
       "Name: count, dtype: int64"
      ]
     },
     "execution_count": 8,
     "metadata": {},
     "output_type": "execute_result"
    }
   ],
   "source": [
    "cleaned_df['category'].value_counts()"
   ]
  },
  {
   "cell_type": "code",
   "execution_count": 9,
   "id": "4128f0f7-56c5-4853-a191-f61cb24cc6e7",
   "metadata": {},
   "outputs": [],
   "source": [
    "cleaned_df['text'] = cleaned_df['article_title'] + '\\n' + cleaned_df['content']"
   ]
  },
  {
   "cell_type": "code",
   "execution_count": 10,
   "id": "437a9d2e-e0fd-4bb2-abce-fa99a8b85009",
   "metadata": {},
   "outputs": [],
   "source": [
    "df = cleaned_df.loc[:, ['text', 'category']].rename(columns={\"category\": \"labels\"})"
   ]
  },
  {
   "cell_type": "code",
   "execution_count": 11,
   "id": "d59861fb-89e7-4d44-8e81-743a4d323401",
   "metadata": {},
   "outputs": [
    {
     "data": {
      "text/html": [
       "<div>\n",
       "<style scoped>\n",
       "    .dataframe tbody tr th:only-of-type {\n",
       "        vertical-align: middle;\n",
       "    }\n",
       "\n",
       "    .dataframe tbody tr th {\n",
       "        vertical-align: top;\n",
       "    }\n",
       "\n",
       "    .dataframe thead th {\n",
       "        text-align: right;\n",
       "    }\n",
       "</style>\n",
       "<table border=\"1\" class=\"dataframe\">\n",
       "  <thead>\n",
       "    <tr style=\"text-align: right;\">\n",
       "      <th></th>\n",
       "      <th>text</th>\n",
       "      <th>labels</th>\n",
       "    </tr>\n",
       "  </thead>\n",
       "  <tbody>\n",
       "    <tr>\n",
       "      <th>0</th>\n",
       "      <td>Phishing victim sends eye-watering $4.5M in US...</td>\n",
       "      <td>none</td>\n",
       "    </tr>\n",
       "    <tr>\n",
       "      <th>2</th>\n",
       "      <td>Джейми Куттс: «Выбросы CO2 в сети Биткоина про...</td>\n",
       "      <td>none</td>\n",
       "    </tr>\n",
       "    <tr>\n",
       "      <th>3</th>\n",
       "      <td>Пользователи Venmo получили доступ к платежам ...</td>\n",
       "      <td>none</td>\n",
       "    </tr>\n",
       "    <tr>\n",
       "      <th>8</th>\n",
       "      <td>Хешрейт по осени считают: как регулируют майни...</td>\n",
       "      <td>none</td>\n",
       "    </tr>\n",
       "    <tr>\n",
       "      <th>9</th>\n",
       "      <td>Bitcoin Holding Above $26K Is ‘Remarkable’ as ...</td>\n",
       "      <td>none</td>\n",
       "    </tr>\n",
       "    <tr>\n",
       "      <th>...</th>\n",
       "      <td>...</td>\n",
       "      <td>...</td>\n",
       "    </tr>\n",
       "    <tr>\n",
       "      <th>4017</th>\n",
       "      <td>Abu Dhabi sets up investment firm to achieve A...</td>\n",
       "      <td>ai</td>\n",
       "    </tr>\n",
       "    <tr>\n",
       "      <th>4018</th>\n",
       "      <td>G7 industry ministers commit to \"safe and reli...</td>\n",
       "      <td>ai</td>\n",
       "    </tr>\n",
       "    <tr>\n",
       "      <th>4019</th>\n",
       "      <td>Saudi Arabia establishes AI Centre of Excellen...</td>\n",
       "      <td>ai</td>\n",
       "    </tr>\n",
       "    <tr>\n",
       "      <th>4020</th>\n",
       "      <td>China’s PBOC facilitates global access to e-CN...</td>\n",
       "      <td>cbdc</td>\n",
       "    </tr>\n",
       "    <tr>\n",
       "      <th>4021</th>\n",
       "      <td>Swiss digital identity law approved by parliam...</td>\n",
       "      <td>bid</td>\n",
       "    </tr>\n",
       "  </tbody>\n",
       "</table>\n",
       "<p>2093 rows × 2 columns</p>\n",
       "</div>"
      ],
      "text/plain": [
       "                                                   text labels\n",
       "0     Phishing victim sends eye-watering $4.5M in US...   none\n",
       "2     Джейми Куттс: «Выбросы CO2 в сети Биткоина про...   none\n",
       "3     Пользователи Venmo получили доступ к платежам ...   none\n",
       "8     Хешрейт по осени считают: как регулируют майни...   none\n",
       "9     Bitcoin Holding Above $26K Is ‘Remarkable’ as ...   none\n",
       "...                                                 ...    ...\n",
       "4017  Abu Dhabi sets up investment firm to achieve A...     ai\n",
       "4018  G7 industry ministers commit to \"safe and reli...     ai\n",
       "4019  Saudi Arabia establishes AI Centre of Excellen...     ai\n",
       "4020  China’s PBOC facilitates global access to e-CN...   cbdc\n",
       "4021  Swiss digital identity law approved by parliam...    bid\n",
       "\n",
       "[2093 rows x 2 columns]"
      ]
     },
     "execution_count": 11,
     "metadata": {},
     "output_type": "execute_result"
    }
   ],
   "source": [
    "df"
   ]
  },
  {
   "cell_type": "code",
   "execution_count": 12,
   "id": "0af1e699-405d-46db-993c-1170e8085237",
   "metadata": {},
   "outputs": [],
   "source": [
    "df.to_csv('multiclass.csv', index=False)"
   ]
  },
  {
   "cell_type": "code",
   "execution_count": 13,
   "id": "3e4a5640-0557-492e-884a-b6bbbea2a80b",
   "metadata": {},
   "outputs": [
    {
     "data": {
      "text/plain": [
       "labels\n",
       "ai       159\n",
       "api        3\n",
       "bid       57\n",
       "cbdc     150\n",
       "cr       454\n",
       "defi      18\n",
       "none    1102\n",
       "oth       99\n",
       "tok       51\n",
       "Name: count, dtype: int64"
      ]
     },
     "execution_count": 13,
     "metadata": {},
     "output_type": "execute_result"
    }
   ],
   "source": [
    "df['labels'].value_counts().sort_index()"
   ]
  },
  {
   "cell_type": "code",
   "execution_count": 14,
   "id": "9ee6a24d-259b-4e81-8462-a9e6d55c22a2",
   "metadata": {},
   "outputs": [
    {
     "data": {
      "text/plain": [
       "array([0.92403249, 0.99856665, 0.97276636, 0.92833254, 0.78308648,\n",
       "       0.9913999 , 0.47348304, 0.95269947, 0.97563306])"
      ]
     },
     "execution_count": 14,
     "metadata": {},
     "output_type": "execute_result"
    }
   ],
   "source": [
    "class_weights = (1 - (df['labels'].value_counts().sort_index() / len(df))).values\n",
    "class_weights"
   ]
  },
  {
   "cell_type": "code",
   "execution_count": 15,
   "id": "608ada60-f211-40d2-949f-9dc7f81f0ba9",
   "metadata": {},
   "outputs": [
    {
     "data": {
      "text/plain": [
       "tensor([0.9240, 0.9986, 0.9728, 0.9283, 0.7831, 0.9914, 0.4735, 0.9527, 0.9756],\n",
       "       device='cuda:0')"
      ]
     },
     "execution_count": 15,
     "metadata": {},
     "output_type": "execute_result"
    }
   ],
   "source": [
    "device = torch.device(\"cuda:0\" if torch.cuda.is_available() else \"cpu\")\n",
    "class_weights = torch.from_numpy(class_weights).float().to(device)\n",
    "class_weights"
   ]
  },
  {
   "cell_type": "code",
   "execution_count": 16,
   "id": "f594e7bc-ff81-46ff-bd60-75c4a59e6b41",
   "metadata": {},
   "outputs": [],
   "source": [
    "def get_dataset(csv_path, test_size=0.2):\n",
    "    full_dataset = load_dataset('csv', data_files=csv_path)\n",
    "    full_dataset = full_dataset.filter(lambda example: example['text'] is not None and example['labels'] is not None)\n",
    "    full_dataset = full_dataset.class_encode_column(\"labels\")\n",
    "    dataset = full_dataset['train'].train_test_split(test_size=test_size, stratify_by_column='labels')\n",
    "    return dataset"
   ]
  },
  {
   "cell_type": "code",
   "execution_count": 17,
   "id": "ab8afcbb-c2b0-4c4e-a773-73a55d2bccb2",
   "metadata": {},
   "outputs": [
    {
     "data": {
      "application/vnd.jupyter.widget-view+json": {
       "model_id": "154019ba72d64f5e8a4b43c8aa126004",
       "version_major": 2,
       "version_minor": 0
      },
      "text/plain": [
       "Generating train split: 0 examples [00:00, ? examples/s]"
      ]
     },
     "metadata": {},
     "output_type": "display_data"
    },
    {
     "data": {
      "application/vnd.jupyter.widget-view+json": {
       "model_id": "fcdeec01ad4840679f080981da92cb3a",
       "version_major": 2,
       "version_minor": 0
      },
      "text/plain": [
       "Filter:   0%|          | 0/2093 [00:00<?, ? examples/s]"
      ]
     },
     "metadata": {},
     "output_type": "display_data"
    },
    {
     "data": {
      "application/vnd.jupyter.widget-view+json": {
       "model_id": "e336c42841e446c5be2ef08b8705e10c",
       "version_major": 2,
       "version_minor": 0
      },
      "text/plain": [
       "Casting to class labels:   0%|          | 0/2093 [00:00<?, ? examples/s]"
      ]
     },
     "metadata": {},
     "output_type": "display_data"
    }
   ],
   "source": [
    "dataset = get_dataset('multiclass.csv')"
   ]
  },
  {
   "cell_type": "code",
   "execution_count": 18,
   "id": "a3a57ef3-03ff-4928-9705-b6f956a86c8e",
   "metadata": {},
   "outputs": [],
   "source": [
    "labels = sorted(df['labels'].value_counts().keys())  # .sort_index()"
   ]
  },
  {
   "cell_type": "code",
   "execution_count": 19,
   "id": "900518eb-90ab-43e3-930d-05e7820ed696",
   "metadata": {},
   "outputs": [],
   "source": [
    "id2label = {}\n",
    "label2id = {}"
   ]
  },
  {
   "cell_type": "code",
   "execution_count": 20,
   "id": "cf05dc17-80d5-4dca-be13-013eaf235fe2",
   "metadata": {},
   "outputs": [],
   "source": [
    "for i, label in enumerate(labels):\n",
    "    id2label[i] = label\n",
    "    label2id[label] = i"
   ]
  },
  {
   "cell_type": "code",
   "execution_count": 21,
   "id": "5c4a4722-845a-44be-a7d8-e053e1886886",
   "metadata": {},
   "outputs": [
    {
     "data": {
      "text/plain": [
       "6    881\n",
       "4    363\n",
       "0    127\n",
       "3    120\n",
       "7     79\n",
       "2     46\n",
       "8     41\n",
       "5     14\n",
       "1      3\n",
       "Name: count, dtype: int64"
      ]
     },
     "execution_count": 21,
     "metadata": {},
     "output_type": "execute_result"
    }
   ],
   "source": [
    "pd.Series(dataset['train']['labels']).value_counts()"
   ]
  },
  {
   "cell_type": "code",
   "execution_count": 22,
   "id": "61790a3b-61da-4e8d-a414-98f169afb048",
   "metadata": {},
   "outputs": [
    {
     "data": {
      "text/plain": [
       "{'text': 'Hong Kong ‘ready’ to capitalize on crypto’s next bull run: Hashkey Capital\\nHong Kong is “very ready” for the next wave of mass crypto adoption, with an influx of crypto talent that has been spilling into the aspiring digital asset hub, says Jupiter Zheng, a partner at Hashkey Capital.\\n\\nSpeaking to Cointelegraph, Zheng, partner of liquid funds and research at the investment arm of Hong Kong crypto firm HashKey Group — explained that the combination of new Web3 projects along with crypto-positive regulatory developments has primed Hong Kong for significant growth in the next four to five years.\\n\\n“You’ve got all of these new, different projects, with their founders and teams here, which is all real GDP by the way. These teams are already boosting both banking and capital market activities.\"\\n\\nZheng added that while crypto prices haven’t reflected it, the level of sophistication being developed in the sector over the past 18 months had been striking.\\n\\n“The actual technological improvement we’ve seen throughout the bear market has been quite astonishing. So I think from the technology side, we are very ready for the next wave of larger mass adoption in the crypto world,” said Zheng.\\n\\nThe reason for his bullishness for the region was based on the belief that the economy in Hong Kong is in dire need of a new driver, something that Zheng believes the crypto sector is ready to offer.\\n\\n“The GDP in Hong Kong in recent years hasn’t been looking so good — largely due to Covid. So it needs a new driver,” Zheng said. “So it’s my theory that crypto and Web3 are the new drivers here.”\\n\\n@mar2424 Jupiter Zheng, HashKey Capital\\'s Partner of Liquid Funds and Research, spoke at a panel discussion at CVCF last week with the theme \"Navigating the Web3 Investment Landscape: Emerging Trends to Watch in 2023–24\". pic.twitter.com/P5Yg1StzfI — HashKey Capital (@HashKey_Capital) November 6, 2023\\n\\nOn Aug. 3 this year, Hashkey became the first crypto exchange in Hong Kong to receive a specific license that allowed them to offer crypto assets to retail investors.\\n\\nZheng admitted that while he’s not directly involved in the exchange arm of Hashkey, he expects the demand for crypto products from local Hong Kong residents to grow as the government continues to shore up investor concerns by outlining its regulatory scheme for the sector.\\n\\n“The recent policy changes give retail investors safety because now you’ve got insurance and legal protections,” he said.\\n\\n“You don\\'t have to use online wallets to do self-custody. All you need to do is open an account on an exchange, and then you can use your Hong Kong dollars to buy Bitcoins and other crypto. It\\'s quite easy.”\\n\\n“For now it\\'s still a bear market, but when the bull market comes back, we can assume that people’s outlook will change quickly. Retail will definitely be coming back, especially when they have a lot of opportunities to buy securely with licensed exchanges,” Zheng added.\\n\\nOverall, Zheng predicts that Web3 in Asia and Hong Kong will witness a similar pattern of development to that of the GameFi sector in South East Asia in 2021, which saw Axie Infinity briefly become one of the most-played games in the world.\\n\\nIn Zheng’s view, while Axie was prone to massive speculation, the underlying model of development would be similar — projects that are developed in the U.S. and Europe could easily find a welcoming market in Asia.\\n\\n“I think in the future Asia will still follow the same pattern. Protocols and infrastructure projects that are developed in the United States or Europe or Australia may not witness massive adoption where they’re developed — but if they want to find a market they can go to Asia.”\\n\\nRelated: Swiss crypto bank SEBA gets Hong Kong SFC license\\n\\nZheng conceded that growth would be less feverish than once seen in South East Asia, with more of a sober and well-regulated focus on protocols and blockchain infrastructure, in place of rampant speculation on gaming.\\n\\nHong Kong\\'s burgeoning virtual asset policy is paving the way for the future of #Web3\\n\\n\\n\\nOur Partner of Liquid Funds and Research, @mar2424 shares his insights into the developments and opportunities that are reshaping the industry and the rest of the world at large.\\n\\n\\n\\nRead more: — HashKey Capital (@HashKey_Capital) November 7, 2023\\n\\nIt’s worth noting that Hong Kong was rocked by a crypto exchange scandal in September, in which an unlicensed exchange called JPEX allegedly swindled investors out of some $165 million. The fallout has since been described as the one of the worst financial crises to have ever hit the region.\\n\\nDespite the debacle, Hong Kong’s secretary for financial services and the treasury Christian Hui assured a crowd of investors, government officials and other regulators at HK Fintech week that the JPEX drama hadn’t affected the government’s aspirations to turn Hong Kong into Asia’s crypto hub.\\n\\nHong Kong also pledged to tighten its crypto regulations after JPEX’s alleged actions. The SFC also set up a task force with the police to deal with illicit crypto exchange activities and updated its policies on crypto sales and requirements.\\n\\nAsia Express: Chinese police vs. Web3, blockchain centralization continues',\n",
       " 'labels': 6}"
      ]
     },
     "execution_count": 22,
     "metadata": {},
     "output_type": "execute_result"
    }
   ],
   "source": [
    "dataset['train'][0]"
   ]
  },
  {
   "cell_type": "code",
   "execution_count": 23,
   "id": "d3f7e41b-976a-4c92-98c7-e55bc63da815",
   "metadata": {},
   "outputs": [],
   "source": [
    "model_name = \"distilbert/distilbert-base-uncased\"\n",
    "\n",
    "tokenizer = AutoTokenizer.from_pretrained(model_name, model_max_length=512)"
   ]
  },
  {
   "cell_type": "code",
   "execution_count": 24,
   "id": "5675b2d1-05f0-4de9-a88f-1d41f5928b74",
   "metadata": {},
   "outputs": [],
   "source": [
    "def preprocess_function(examples):\n",
    "    return tokenizer(examples[\"text\"], truncation=True)"
   ]
  },
  {
   "cell_type": "code",
   "execution_count": 25,
   "id": "be0f0079-4040-4bb5-88ca-256d5e1715f8",
   "metadata": {},
   "outputs": [
    {
     "data": {
      "application/vnd.jupyter.widget-view+json": {
       "model_id": "500f627983514bc78ca208f4e5182df3",
       "version_major": 2,
       "version_minor": 0
      },
      "text/plain": [
       "Map:   0%|          | 0/1674 [00:00<?, ? examples/s]"
      ]
     },
     "metadata": {},
     "output_type": "display_data"
    },
    {
     "data": {
      "application/vnd.jupyter.widget-view+json": {
       "model_id": "e8053799fdab473b9d6378138044fce1",
       "version_major": 2,
       "version_minor": 0
      },
      "text/plain": [
       "Map:   0%|          | 0/419 [00:00<?, ? examples/s]"
      ]
     },
     "metadata": {},
     "output_type": "display_data"
    }
   ],
   "source": [
    "tokenized_dataset = dataset.map(preprocess_function, batched=True)"
   ]
  },
  {
   "cell_type": "code",
   "execution_count": 26,
   "id": "9b51480e-ef59-43c4-aa71-0e1480d4d390",
   "metadata": {},
   "outputs": [],
   "source": [
    "from transformers import DataCollatorWithPadding\n",
    "data_collator = DataCollatorWithPadding(tokenizer=tokenizer)"
   ]
  },
  {
   "cell_type": "code",
   "execution_count": 27,
   "id": "99e6fe63-241d-4b5f-862c-3c5b41d278c4",
   "metadata": {},
   "outputs": [
    {
     "name": "stderr",
     "output_type": "stream",
     "text": [
      "Some weights of DistilBertForSequenceClassification were not initialized from the model checkpoint at distilbert/distilbert-base-uncased and are newly initialized: ['classifier.bias', 'classifier.weight', 'pre_classifier.bias', 'pre_classifier.weight']\n",
      "You should probably TRAIN this model on a down-stream task to be able to use it for predictions and inference.\n"
     ]
    }
   ],
   "source": [
    "model = AutoModelForSequenceClassification.from_pretrained(model_name, num_labels=len(labels), id2label=id2label, label2id=label2id)"
   ]
  },
  {
   "cell_type": "code",
   "execution_count": 28,
   "id": "ece50048-20d5-44a0-8584-704da00b7ec0",
   "metadata": {},
   "outputs": [
    {
     "data": {
      "text/plain": [
       "DistilBertForSequenceClassification(\n",
       "  (distilbert): DistilBertModel(\n",
       "    (embeddings): Embeddings(\n",
       "      (word_embeddings): Embedding(30522, 768, padding_idx=0)\n",
       "      (position_embeddings): Embedding(512, 768)\n",
       "      (LayerNorm): LayerNorm((768,), eps=1e-12, elementwise_affine=True)\n",
       "      (dropout): Dropout(p=0.1, inplace=False)\n",
       "    )\n",
       "    (transformer): Transformer(\n",
       "      (layer): ModuleList(\n",
       "        (0-5): 6 x TransformerBlock(\n",
       "          (attention): MultiHeadSelfAttention(\n",
       "            (dropout): Dropout(p=0.1, inplace=False)\n",
       "            (q_lin): Linear(in_features=768, out_features=768, bias=True)\n",
       "            (k_lin): Linear(in_features=768, out_features=768, bias=True)\n",
       "            (v_lin): Linear(in_features=768, out_features=768, bias=True)\n",
       "            (out_lin): Linear(in_features=768, out_features=768, bias=True)\n",
       "          )\n",
       "          (sa_layer_norm): LayerNorm((768,), eps=1e-12, elementwise_affine=True)\n",
       "          (ffn): FFN(\n",
       "            (dropout): Dropout(p=0.1, inplace=False)\n",
       "            (lin1): Linear(in_features=768, out_features=3072, bias=True)\n",
       "            (lin2): Linear(in_features=3072, out_features=768, bias=True)\n",
       "            (activation): GELUActivation()\n",
       "          )\n",
       "          (output_layer_norm): LayerNorm((768,), eps=1e-12, elementwise_affine=True)\n",
       "        )\n",
       "      )\n",
       "    )\n",
       "  )\n",
       "  (pre_classifier): Linear(in_features=768, out_features=768, bias=True)\n",
       "  (classifier): Linear(in_features=768, out_features=9, bias=True)\n",
       "  (dropout): Dropout(p=0.2, inplace=False)\n",
       ")"
      ]
     },
     "execution_count": 28,
     "metadata": {},
     "output_type": "execute_result"
    }
   ],
   "source": [
    "model.to(device)"
   ]
  },
  {
   "cell_type": "code",
   "execution_count": 29,
   "id": "a275d5f6-be75-4c8f-83c8-b6e4907b3e10",
   "metadata": {},
   "outputs": [
    {
     "name": "stderr",
     "output_type": "stream",
     "text": [
      "c:\\Users\\ODOBESKURS\\AppData\\Local\\miniconda3\\envs\\fintech_cb_pro\\lib\\site-packages\\transformers\\optimization.py:457: FutureWarning: This implementation of AdamW is deprecated and will be removed in a future version. Use the PyTorch implementation torch.optim.AdamW instead, or set `no_deprecation_warning=True` to disable this warning\n",
      "  warnings.warn(\n"
     ]
    }
   ],
   "source": [
    "from transformers import AdamW, get_scheduler\n",
    "\n",
    "dataset_len = (dataset['train'].num_rows + dataset['test'].num_rows)\n",
    "\n",
    "optimizer = AdamW(model.parameters(), lr=2e-5)\n",
    "num_epochs = 3\n",
    "num_training_steps = num_epochs * dataset_len\n",
    "\n",
    "\n",
    "lr_scheduler = get_scheduler(\n",
    "    \"cosine\",\n",
    "    optimizer=optimizer,\n",
    "    num_warmup_steps= int(0.1 * num_epochs * dataset_len),\n",
    "    num_training_steps=num_training_steps\n",
    ")"
   ]
  },
  {
   "cell_type": "code",
   "execution_count": 30,
   "id": "e5e0ed17-ef54-4514-9de0-2bf57887e97b",
   "metadata": {},
   "outputs": [],
   "source": [
    "class CustomTrainer(Trainer):\n",
    "    def compute_loss(self, model, inputs, return_outputs=False):\n",
    "        labels = inputs.get(\"labels\")\n",
    "        \n",
    "        outputs = model(**inputs)\n",
    "        logits = outputs.get('logits')\n",
    "        \n",
    "        loss_fct = nn.CrossEntropyLoss(weight=class_weights)\n",
    "        loss = loss_fct(logits.view(-1, self.model.config.num_labels), labels.view(-1))\n",
    "        \n",
    "        return (loss, outputs) if return_outputs else loss"
   ]
  },
  {
   "cell_type": "code",
   "execution_count": 31,
   "id": "9d78950b-4218-4321-8951-b92866076ad9",
   "metadata": {},
   "outputs": [],
   "source": [
    "f1_metric = evaluate.load('f1')\n",
    "\n",
    "training_args = TrainingArguments(\n",
    "    output_dir=\"./results/multiclass-distilbert2/\",\n",
    "    num_train_epochs=50,\n",
    "    per_device_train_batch_size=24,\n",
    "    per_device_eval_batch_size=24,\n",
    "    warmup_steps=200,\n",
    "    weight_decay=0.01,\n",
    "    logging_strategy='no',\n",
    "    evaluation_strategy=\"steps\",\n",
    "    eval_steps=50,\n",
    "    save_only_model=True,\n",
    "    save_strategy=\"steps\",\n",
    "    save_steps=50,\n",
    "    save_total_limit=2,\n",
    "    metric_for_best_model='f1',\n",
    "    greater_is_better=True,\n",
    "    eval_accumulation_steps=32,\n",
    "    fp16=True,  # mixed precision\n",
    "    load_best_model_at_end = True,\n",
    ")\n",
    "\n",
    "def compute_metrics(eval_pred):\n",
    "    logits, labels = eval_pred\n",
    "    predictions = np.argmax(logits, axis=-1)\n",
    "    return f1_metric.compute(predictions=predictions, references=labels, average='macro')\n",
    "\n",
    "trainer = CustomTrainer(\n",
    "    model=model,\n",
    "    args=training_args,\n",
    "    train_dataset=tokenized_dataset[\"train\"],\n",
    "    eval_dataset=tokenized_dataset[\"test\"],\n",
    "    compute_metrics=compute_metrics,\n",
    "    tokenizer=tokenizer,\n",
    "    data_collator=data_collator,\n",
    "    optimizers=[optimizer, lr_scheduler],\n",
    ")"
   ]
  },
  {
   "cell_type": "code",
   "execution_count": 32,
   "id": "ade4a6c1-341f-497b-896d-8eb8fcd577b3",
   "metadata": {},
   "outputs": [
    {
     "data": {
      "application/vnd.jupyter.widget-view+json": {
       "model_id": "c79e1dee7197409fb7682b9a70388413",
       "version_major": 2,
       "version_minor": 0
      },
      "text/plain": [
       "  0%|          | 0/3500 [00:00<?, ?it/s]"
      ]
     },
     "metadata": {},
     "output_type": "display_data"
    },
    {
     "data": {
      "application/vnd.jupyter.widget-view+json": {
       "model_id": "1002f55e418f4b5eb8bf077b1e335009",
       "version_major": 2,
       "version_minor": 0
      },
      "text/plain": [
       "  0%|          | 0/18 [00:00<?, ?it/s]"
      ]
     },
     "metadata": {},
     "output_type": "display_data"
    },
    {
     "name": "stdout",
     "output_type": "stream",
     "text": [
      "{'eval_loss': 2.142705202102661, 'eval_f1': 0.02236199849200365, 'eval_runtime': 1.0964, 'eval_samples_per_second': 382.17, 'eval_steps_per_second': 16.418, 'epoch': 0.71}\n"
     ]
    },
    {
     "data": {
      "application/vnd.jupyter.widget-view+json": {
       "model_id": "b08f16482f6c499294461444b6e3a99b",
       "version_major": 2,
       "version_minor": 0
      },
      "text/plain": [
       "  0%|          | 0/18 [00:00<?, ?it/s]"
      ]
     },
     "metadata": {},
     "output_type": "display_data"
    },
    {
     "name": "stdout",
     "output_type": "stream",
     "text": [
      "{'eval_loss': 1.846754550933838, 'eval_f1': 0.1427647819442812, 'eval_runtime': 1.08, 'eval_samples_per_second': 387.946, 'eval_steps_per_second': 16.666, 'epoch': 1.43}\n"
     ]
    },
    {
     "data": {
      "application/vnd.jupyter.widget-view+json": {
       "model_id": "8703bc4db2b14846a7ea164ad6a8f89f",
       "version_major": 2,
       "version_minor": 0
      },
      "text/plain": [
       "  0%|          | 0/18 [00:00<?, ?it/s]"
      ]
     },
     "metadata": {},
     "output_type": "display_data"
    },
    {
     "name": "stdout",
     "output_type": "stream",
     "text": [
      "{'eval_loss': 1.670335292816162, 'eval_f1': 0.1427647819442812, 'eval_runtime': 1.0864, 'eval_samples_per_second': 385.68, 'eval_steps_per_second': 16.569, 'epoch': 2.14}\n"
     ]
    },
    {
     "data": {
      "application/vnd.jupyter.widget-view+json": {
       "model_id": "13588bdac6f7466b852928fae889eeed",
       "version_major": 2,
       "version_minor": 0
      },
      "text/plain": [
       "  0%|          | 0/18 [00:00<?, ?it/s]"
      ]
     },
     "metadata": {},
     "output_type": "display_data"
    },
    {
     "name": "stdout",
     "output_type": "stream",
     "text": [
      "{'eval_loss': 1.5965787172317505, 'eval_f1': 0.1419982488568927, 'eval_runtime': 1.0829, 'eval_samples_per_second': 386.916, 'eval_steps_per_second': 16.622, 'epoch': 2.86}\n"
     ]
    },
    {
     "data": {
      "application/vnd.jupyter.widget-view+json": {
       "model_id": "13b144dbb2be40aaa514922b7498e5ec",
       "version_major": 2,
       "version_minor": 0
      },
      "text/plain": [
       "  0%|          | 0/18 [00:00<?, ?it/s]"
      ]
     },
     "metadata": {},
     "output_type": "display_data"
    },
    {
     "name": "stdout",
     "output_type": "stream",
     "text": [
      "{'eval_loss': 1.4697415828704834, 'eval_f1': 0.21596582569602552, 'eval_runtime': 1.0824, 'eval_samples_per_second': 387.119, 'eval_steps_per_second': 16.63, 'epoch': 3.57}\n"
     ]
    },
    {
     "data": {
      "application/vnd.jupyter.widget-view+json": {
       "model_id": "bbfe542e044c4e7caa3671b6c5cbfb4f",
       "version_major": 2,
       "version_minor": 0
      },
      "text/plain": [
       "  0%|          | 0/18 [00:00<?, ?it/s]"
      ]
     },
     "metadata": {},
     "output_type": "display_data"
    },
    {
     "name": "stdout",
     "output_type": "stream",
     "text": [
      "{'eval_loss': 1.296247124671936, 'eval_f1': 0.2727246080279553, 'eval_runtime': 1.086, 'eval_samples_per_second': 385.806, 'eval_steps_per_second': 16.574, 'epoch': 4.29}\n"
     ]
    },
    {
     "data": {
      "application/vnd.jupyter.widget-view+json": {
       "model_id": "f0f0238cc6684fedaa117bac6600cac4",
       "version_major": 2,
       "version_minor": 0
      },
      "text/plain": [
       "  0%|          | 0/18 [00:00<?, ?it/s]"
      ]
     },
     "metadata": {},
     "output_type": "display_data"
    },
    {
     "name": "stdout",
     "output_type": "stream",
     "text": [
      "{'eval_loss': 1.1614899635314941, 'eval_f1': 0.40842447335943627, 'eval_runtime': 1.0994, 'eval_samples_per_second': 381.107, 'eval_steps_per_second': 16.372, 'epoch': 5.0}\n"
     ]
    },
    {
     "data": {
      "application/vnd.jupyter.widget-view+json": {
       "model_id": "2c7a07f172f04c048484f7f3e893300f",
       "version_major": 2,
       "version_minor": 0
      },
      "text/plain": [
       "  0%|          | 0/18 [00:00<?, ?it/s]"
      ]
     },
     "metadata": {},
     "output_type": "display_data"
    },
    {
     "name": "stdout",
     "output_type": "stream",
     "text": [
      "{'eval_loss': 1.0989043712615967, 'eval_f1': 0.44837545609971896, 'eval_runtime': 1.0916, 'eval_samples_per_second': 383.835, 'eval_steps_per_second': 16.489, 'epoch': 5.71}\n"
     ]
    },
    {
     "data": {
      "application/vnd.jupyter.widget-view+json": {
       "model_id": "322dd6a2485348e89400b49f92abe13f",
       "version_major": 2,
       "version_minor": 0
      },
      "text/plain": [
       "  0%|          | 0/18 [00:00<?, ?it/s]"
      ]
     },
     "metadata": {},
     "output_type": "display_data"
    },
    {
     "name": "stdout",
     "output_type": "stream",
     "text": [
      "{'eval_loss': 1.0236637592315674, 'eval_f1': 0.47053409693957987, 'eval_runtime': 1.0935, 'eval_samples_per_second': 383.162, 'eval_steps_per_second': 16.46, 'epoch': 6.43}\n"
     ]
    },
    {
     "data": {
      "application/vnd.jupyter.widget-view+json": {
       "model_id": "1692e05ece6540078a51a846e7697d9d",
       "version_major": 2,
       "version_minor": 0
      },
      "text/plain": [
       "  0%|          | 0/18 [00:00<?, ?it/s]"
      ]
     },
     "metadata": {},
     "output_type": "display_data"
    },
    {
     "name": "stdout",
     "output_type": "stream",
     "text": [
      "{'eval_loss': 0.9981508851051331, 'eval_f1': 0.48092277677403295, 'eval_runtime': 1.1024, 'eval_samples_per_second': 380.066, 'eval_steps_per_second': 16.327, 'epoch': 7.14}\n"
     ]
    },
    {
     "data": {
      "application/vnd.jupyter.widget-view+json": {
       "model_id": "8e0d4af74d67486cb1541cc96a068ce8",
       "version_major": 2,
       "version_minor": 0
      },
      "text/plain": [
       "  0%|          | 0/18 [00:00<?, ?it/s]"
      ]
     },
     "metadata": {},
     "output_type": "display_data"
    },
    {
     "name": "stdout",
     "output_type": "stream",
     "text": [
      "{'eval_loss': 0.9392784237861633, 'eval_f1': 0.536243759143497, 'eval_runtime': 1.0933, 'eval_samples_per_second': 383.256, 'eval_steps_per_second': 16.464, 'epoch': 7.86}\n"
     ]
    },
    {
     "data": {
      "application/vnd.jupyter.widget-view+json": {
       "model_id": "0ef1110679644a30aca351e9a84235cd",
       "version_major": 2,
       "version_minor": 0
      },
      "text/plain": [
       "  0%|          | 0/18 [00:00<?, ?it/s]"
      ]
     },
     "metadata": {},
     "output_type": "display_data"
    },
    {
     "name": "stdout",
     "output_type": "stream",
     "text": [
      "{'eval_loss': 0.8852601647377014, 'eval_f1': 0.557102138520208, 'eval_runtime': 1.0969, 'eval_samples_per_second': 381.977, 'eval_steps_per_second': 16.41, 'epoch': 8.57}\n"
     ]
    },
    {
     "data": {
      "application/vnd.jupyter.widget-view+json": {
       "model_id": "6eeaaafde39c48998c5afcb4ff44866d",
       "version_major": 2,
       "version_minor": 0
      },
      "text/plain": [
       "  0%|          | 0/18 [00:00<?, ?it/s]"
      ]
     },
     "metadata": {},
     "output_type": "display_data"
    },
    {
     "name": "stdout",
     "output_type": "stream",
     "text": [
      "{'eval_loss': 0.9139729738235474, 'eval_f1': 0.6027133588536597, 'eval_runtime': 1.0976, 'eval_samples_per_second': 381.753, 'eval_steps_per_second': 16.4, 'epoch': 9.29}\n"
     ]
    },
    {
     "data": {
      "application/vnd.jupyter.widget-view+json": {
       "model_id": "c4ce15e545264ecc9350390f443f740f",
       "version_major": 2,
       "version_minor": 0
      },
      "text/plain": [
       "  0%|          | 0/18 [00:00<?, ?it/s]"
      ]
     },
     "metadata": {},
     "output_type": "display_data"
    },
    {
     "name": "stdout",
     "output_type": "stream",
     "text": [
      "{'eval_loss': 0.9387201070785522, 'eval_f1': 0.6105346505822736, 'eval_runtime': 1.0876, 'eval_samples_per_second': 385.248, 'eval_steps_per_second': 16.55, 'epoch': 10.0}\n"
     ]
    },
    {
     "data": {
      "application/vnd.jupyter.widget-view+json": {
       "model_id": "2064183a910b40bd803083a4961f21ff",
       "version_major": 2,
       "version_minor": 0
      },
      "text/plain": [
       "  0%|          | 0/18 [00:00<?, ?it/s]"
      ]
     },
     "metadata": {},
     "output_type": "display_data"
    },
    {
     "name": "stdout",
     "output_type": "stream",
     "text": [
      "{'eval_loss': 0.867154061794281, 'eval_f1': 0.6314708639062088, 'eval_runtime': 1.0974, 'eval_samples_per_second': 381.829, 'eval_steps_per_second': 16.403, 'epoch': 10.71}\n"
     ]
    },
    {
     "data": {
      "application/vnd.jupyter.widget-view+json": {
       "model_id": "6610128c88924b69929d22ad13dfda69",
       "version_major": 2,
       "version_minor": 0
      },
      "text/plain": [
       "  0%|          | 0/18 [00:00<?, ?it/s]"
      ]
     },
     "metadata": {},
     "output_type": "display_data"
    },
    {
     "name": "stdout",
     "output_type": "stream",
     "text": [
      "{'eval_loss': 0.9836744070053101, 'eval_f1': 0.6245361870943567, 'eval_runtime': 1.096, 'eval_samples_per_second': 382.295, 'eval_steps_per_second': 16.423, 'epoch': 11.43}\n"
     ]
    },
    {
     "data": {
      "application/vnd.jupyter.widget-view+json": {
       "model_id": "8b086b825ce7462aafd1aa28a8f9e1b0",
       "version_major": 2,
       "version_minor": 0
      },
      "text/plain": [
       "  0%|          | 0/18 [00:00<?, ?it/s]"
      ]
     },
     "metadata": {},
     "output_type": "display_data"
    },
    {
     "name": "stdout",
     "output_type": "stream",
     "text": [
      "{'eval_loss': 0.8991674184799194, 'eval_f1': 0.6475304729390825, 'eval_runtime': 1.0987, 'eval_samples_per_second': 381.356, 'eval_steps_per_second': 16.383, 'epoch': 12.14}\n"
     ]
    },
    {
     "data": {
      "application/vnd.jupyter.widget-view+json": {
       "model_id": "05237a3047594e2d8e2c8186e6f94833",
       "version_major": 2,
       "version_minor": 0
      },
      "text/plain": [
       "  0%|          | 0/18 [00:00<?, ?it/s]"
      ]
     },
     "metadata": {},
     "output_type": "display_data"
    },
    {
     "name": "stdout",
     "output_type": "stream",
     "text": [
      "{'eval_loss': 1.0796056985855103, 'eval_f1': 0.588181408837281, 'eval_runtime': 1.0959, 'eval_samples_per_second': 382.327, 'eval_steps_per_second': 16.425, 'epoch': 12.86}\n"
     ]
    },
    {
     "data": {
      "application/vnd.jupyter.widget-view+json": {
       "model_id": "bbc7fff4b4684816a9f877bb9e7cf170",
       "version_major": 2,
       "version_minor": 0
      },
      "text/plain": [
       "  0%|          | 0/18 [00:00<?, ?it/s]"
      ]
     },
     "metadata": {},
     "output_type": "display_data"
    },
    {
     "name": "stdout",
     "output_type": "stream",
     "text": [
      "{'eval_loss': 1.019862174987793, 'eval_f1': 0.6617543267519959, 'eval_runtime': 1.1075, 'eval_samples_per_second': 378.326, 'eval_steps_per_second': 16.253, 'epoch': 13.57}\n"
     ]
    },
    {
     "data": {
      "application/vnd.jupyter.widget-view+json": {
       "model_id": "e445cc34b4d1478cab9c48b5d18897ac",
       "version_major": 2,
       "version_minor": 0
      },
      "text/plain": [
       "  0%|          | 0/18 [00:00<?, ?it/s]"
      ]
     },
     "metadata": {},
     "output_type": "display_data"
    },
    {
     "name": "stdout",
     "output_type": "stream",
     "text": [
      "{'eval_loss': 1.083228349685669, 'eval_f1': 0.6753003188899482, 'eval_runtime': 1.0952, 'eval_samples_per_second': 382.578, 'eval_steps_per_second': 16.435, 'epoch': 14.29}\n"
     ]
    },
    {
     "data": {
      "application/vnd.jupyter.widget-view+json": {
       "model_id": "92938987f53241e7b472d58553cf615a",
       "version_major": 2,
       "version_minor": 0
      },
      "text/plain": [
       "  0%|          | 0/18 [00:00<?, ?it/s]"
      ]
     },
     "metadata": {},
     "output_type": "display_data"
    },
    {
     "name": "stdout",
     "output_type": "stream",
     "text": [
      "{'eval_loss': 1.0843168497085571, 'eval_f1': 0.6210087529808077, 'eval_runtime': 1.0925, 'eval_samples_per_second': 383.542, 'eval_steps_per_second': 16.477, 'epoch': 15.0}\n"
     ]
    },
    {
     "data": {
      "application/vnd.jupyter.widget-view+json": {
       "model_id": "90544f95eaad4e88aa9e30771950cd4f",
       "version_major": 2,
       "version_minor": 0
      },
      "text/plain": [
       "  0%|          | 0/18 [00:00<?, ?it/s]"
      ]
     },
     "metadata": {},
     "output_type": "display_data"
    },
    {
     "name": "stdout",
     "output_type": "stream",
     "text": [
      "{'eval_loss': 1.109995722770691, 'eval_f1': 0.6634779670052613, 'eval_runtime': 1.0932, 'eval_samples_per_second': 383.291, 'eval_steps_per_second': 16.466, 'epoch': 15.71}\n"
     ]
    },
    {
     "data": {
      "application/vnd.jupyter.widget-view+json": {
       "model_id": "52bf7b8fadab4efa8530e42376fc178c",
       "version_major": 2,
       "version_minor": 0
      },
      "text/plain": [
       "  0%|          | 0/18 [00:00<?, ?it/s]"
      ]
     },
     "metadata": {},
     "output_type": "display_data"
    },
    {
     "name": "stdout",
     "output_type": "stream",
     "text": [
      "{'eval_loss': 1.0848751068115234, 'eval_f1': 0.7443951448618156, 'eval_runtime': 1.0895, 'eval_samples_per_second': 384.569, 'eval_steps_per_second': 16.521, 'epoch': 16.43}\n"
     ]
    },
    {
     "data": {
      "application/vnd.jupyter.widget-view+json": {
       "model_id": "625b6c1d335a47f2b8c193c6f60d2d68",
       "version_major": 2,
       "version_minor": 0
      },
      "text/plain": [
       "  0%|          | 0/18 [00:00<?, ?it/s]"
      ]
     },
     "metadata": {},
     "output_type": "display_data"
    },
    {
     "name": "stdout",
     "output_type": "stream",
     "text": [
      "{'eval_loss': 1.2408937215805054, 'eval_f1': 0.6800593333468068, 'eval_runtime': 1.1009, 'eval_samples_per_second': 380.594, 'eval_steps_per_second': 16.35, 'epoch': 17.14}\n"
     ]
    },
    {
     "data": {
      "application/vnd.jupyter.widget-view+json": {
       "model_id": "b7bd8bf553644d079ec13deeb2e1c179",
       "version_major": 2,
       "version_minor": 0
      },
      "text/plain": [
       "  0%|          | 0/18 [00:00<?, ?it/s]"
      ]
     },
     "metadata": {},
     "output_type": "display_data"
    },
    {
     "name": "stdout",
     "output_type": "stream",
     "text": [
      "{'eval_loss': 1.177653193473816, 'eval_f1': 0.7167611879289609, 'eval_runtime': 1.0964, 'eval_samples_per_second': 382.143, 'eval_steps_per_second': 16.417, 'epoch': 17.86}\n"
     ]
    },
    {
     "data": {
      "application/vnd.jupyter.widget-view+json": {
       "model_id": "eb52f0be1ac14d528d69ac98c8a1245a",
       "version_major": 2,
       "version_minor": 0
      },
      "text/plain": [
       "  0%|          | 0/18 [00:00<?, ?it/s]"
      ]
     },
     "metadata": {},
     "output_type": "display_data"
    },
    {
     "name": "stdout",
     "output_type": "stream",
     "text": [
      "{'eval_loss': 1.2421369552612305, 'eval_f1': 0.6921319435032078, 'eval_runtime': 1.102, 'eval_samples_per_second': 380.206, 'eval_steps_per_second': 16.333, 'epoch': 18.57}\n"
     ]
    },
    {
     "data": {
      "application/vnd.jupyter.widget-view+json": {
       "model_id": "6f79e62b0864452fb07635467bc4de24",
       "version_major": 2,
       "version_minor": 0
      },
      "text/plain": [
       "  0%|          | 0/18 [00:00<?, ?it/s]"
      ]
     },
     "metadata": {},
     "output_type": "display_data"
    },
    {
     "name": "stdout",
     "output_type": "stream",
     "text": [
      "{'eval_loss': 1.297851800918579, 'eval_f1': 0.7301703884299431, 'eval_runtime': 1.1085, 'eval_samples_per_second': 377.998, 'eval_steps_per_second': 16.239, 'epoch': 19.29}\n"
     ]
    },
    {
     "data": {
      "application/vnd.jupyter.widget-view+json": {
       "model_id": "7aa579c384d94f95a6f862296d275c8c",
       "version_major": 2,
       "version_minor": 0
      },
      "text/plain": [
       "  0%|          | 0/18 [00:00<?, ?it/s]"
      ]
     },
     "metadata": {},
     "output_type": "display_data"
    },
    {
     "name": "stdout",
     "output_type": "stream",
     "text": [
      "{'eval_loss': 1.31304931640625, 'eval_f1': 0.728649637594998, 'eval_runtime': 1.1011, 'eval_samples_per_second': 380.526, 'eval_steps_per_second': 16.347, 'epoch': 20.0}\n"
     ]
    },
    {
     "data": {
      "application/vnd.jupyter.widget-view+json": {
       "model_id": "919380dc81b349f78f4cc1b19e0efd1c",
       "version_major": 2,
       "version_minor": 0
      },
      "text/plain": [
       "  0%|          | 0/18 [00:00<?, ?it/s]"
      ]
     },
     "metadata": {},
     "output_type": "display_data"
    },
    {
     "name": "stdout",
     "output_type": "stream",
     "text": [
      "{'eval_loss': 1.3394880294799805, 'eval_f1': 0.736018823660737, 'eval_runtime': 1.0953, 'eval_samples_per_second': 382.534, 'eval_steps_per_second': 16.433, 'epoch': 20.71}\n"
     ]
    },
    {
     "data": {
      "application/vnd.jupyter.widget-view+json": {
       "model_id": "233b796ecc7a47a79566b7d78b39ff83",
       "version_major": 2,
       "version_minor": 0
      },
      "text/plain": [
       "  0%|          | 0/18 [00:00<?, ?it/s]"
      ]
     },
     "metadata": {},
     "output_type": "display_data"
    },
    {
     "name": "stdout",
     "output_type": "stream",
     "text": [
      "{'eval_loss': 1.4385857582092285, 'eval_f1': 0.7282620732034462, 'eval_runtime': 1.0925, 'eval_samples_per_second': 383.507, 'eval_steps_per_second': 16.475, 'epoch': 21.43}\n"
     ]
    },
    {
     "data": {
      "application/vnd.jupyter.widget-view+json": {
       "model_id": "015a887af51b4182b8d3ce2b2f08fbef",
       "version_major": 2,
       "version_minor": 0
      },
      "text/plain": [
       "  0%|          | 0/18 [00:00<?, ?it/s]"
      ]
     },
     "metadata": {},
     "output_type": "display_data"
    },
    {
     "name": "stdout",
     "output_type": "stream",
     "text": [
      "{'eval_loss': 1.4892590045928955, 'eval_f1': 0.7375947756083594, 'eval_runtime': 1.1046, 'eval_samples_per_second': 379.317, 'eval_steps_per_second': 16.295, 'epoch': 22.14}\n"
     ]
    },
    {
     "data": {
      "application/vnd.jupyter.widget-view+json": {
       "model_id": "3eb2888d3f364018aa5ef7c951f3b945",
       "version_major": 2,
       "version_minor": 0
      },
      "text/plain": [
       "  0%|          | 0/18 [00:00<?, ?it/s]"
      ]
     },
     "metadata": {},
     "output_type": "display_data"
    },
    {
     "name": "stdout",
     "output_type": "stream",
     "text": [
      "{'eval_loss': 1.409603238105774, 'eval_f1': 0.617051415987734, 'eval_runtime': 1.0903, 'eval_samples_per_second': 384.292, 'eval_steps_per_second': 16.509, 'epoch': 22.86}\n"
     ]
    },
    {
     "data": {
      "application/vnd.jupyter.widget-view+json": {
       "model_id": "83dbbac260fa42fc9d12b18da27edbec",
       "version_major": 2,
       "version_minor": 0
      },
      "text/plain": [
       "  0%|          | 0/18 [00:00<?, ?it/s]"
      ]
     },
     "metadata": {},
     "output_type": "display_data"
    },
    {
     "name": "stdout",
     "output_type": "stream",
     "text": [
      "{'eval_loss': 1.4943991899490356, 'eval_f1': 0.641530487495025, 'eval_runtime': 1.0903, 'eval_samples_per_second': 384.309, 'eval_steps_per_second': 16.51, 'epoch': 23.57}\n"
     ]
    },
    {
     "data": {
      "application/vnd.jupyter.widget-view+json": {
       "model_id": "f55b3cc9a43d43e4b50776f9095f0d02",
       "version_major": 2,
       "version_minor": 0
      },
      "text/plain": [
       "  0%|          | 0/18 [00:00<?, ?it/s]"
      ]
     },
     "metadata": {},
     "output_type": "display_data"
    },
    {
     "name": "stdout",
     "output_type": "stream",
     "text": [
      "{'eval_loss': 1.6574835777282715, 'eval_f1': 0.6715361704564982, 'eval_runtime': 1.092, 'eval_samples_per_second': 383.687, 'eval_steps_per_second': 16.483, 'epoch': 24.29}\n"
     ]
    },
    {
     "data": {
      "application/vnd.jupyter.widget-view+json": {
       "model_id": "c116658b351d4e9589cabf10715589fa",
       "version_major": 2,
       "version_minor": 0
      },
      "text/plain": [
       "  0%|          | 0/18 [00:00<?, ?it/s]"
      ]
     },
     "metadata": {},
     "output_type": "display_data"
    },
    {
     "name": "stdout",
     "output_type": "stream",
     "text": [
      "{'eval_loss': 1.6172831058502197, 'eval_f1': 0.7145429421990754, 'eval_runtime': 1.0984, 'eval_samples_per_second': 381.447, 'eval_steps_per_second': 16.387, 'epoch': 25.0}\n"
     ]
    },
    {
     "data": {
      "application/vnd.jupyter.widget-view+json": {
       "model_id": "9b96c7fb74c04eaaa93fd537196f5b43",
       "version_major": 2,
       "version_minor": 0
      },
      "text/plain": [
       "  0%|          | 0/18 [00:00<?, ?it/s]"
      ]
     },
     "metadata": {},
     "output_type": "display_data"
    },
    {
     "name": "stdout",
     "output_type": "stream",
     "text": [
      "{'eval_loss': 1.6599493026733398, 'eval_f1': 0.698520613683222, 'eval_runtime': 1.0949, 'eval_samples_per_second': 382.671, 'eval_steps_per_second': 16.439, 'epoch': 25.71}\n"
     ]
    },
    {
     "data": {
      "application/vnd.jupyter.widget-view+json": {
       "model_id": "ae7a465edc324353a263d8b2fb93c873",
       "version_major": 2,
       "version_minor": 0
      },
      "text/plain": [
       "  0%|          | 0/18 [00:00<?, ?it/s]"
      ]
     },
     "metadata": {},
     "output_type": "display_data"
    },
    {
     "name": "stdout",
     "output_type": "stream",
     "text": [
      "{'eval_loss': 1.5902636051177979, 'eval_f1': 0.7107393399768329, 'eval_runtime': 1.0936, 'eval_samples_per_second': 383.146, 'eval_steps_per_second': 16.46, 'epoch': 26.43}\n"
     ]
    },
    {
     "data": {
      "application/vnd.jupyter.widget-view+json": {
       "model_id": "c8adef0544c7468c97f1f2f4c2bf8e92",
       "version_major": 2,
       "version_minor": 0
      },
      "text/plain": [
       "  0%|          | 0/18 [00:00<?, ?it/s]"
      ]
     },
     "metadata": {},
     "output_type": "display_data"
    },
    {
     "name": "stdout",
     "output_type": "stream",
     "text": [
      "{'eval_loss': 1.6167371273040771, 'eval_f1': 0.7377898257663716, 'eval_runtime': 1.0936, 'eval_samples_per_second': 383.148, 'eval_steps_per_second': 16.46, 'epoch': 27.14}\n"
     ]
    },
    {
     "data": {
      "application/vnd.jupyter.widget-view+json": {
       "model_id": "e90035bd08f145098166047e169c61b5",
       "version_major": 2,
       "version_minor": 0
      },
      "text/plain": [
       "  0%|          | 0/18 [00:00<?, ?it/s]"
      ]
     },
     "metadata": {},
     "output_type": "display_data"
    },
    {
     "name": "stdout",
     "output_type": "stream",
     "text": [
      "{'eval_loss': 1.5842580795288086, 'eval_f1': 0.7330479449350065, 'eval_runtime': 1.0935, 'eval_samples_per_second': 383.188, 'eval_steps_per_second': 16.462, 'epoch': 27.86}\n"
     ]
    },
    {
     "data": {
      "application/vnd.jupyter.widget-view+json": {
       "model_id": "9b466275b3424172ab6e54dc4aea0e95",
       "version_major": 2,
       "version_minor": 0
      },
      "text/plain": [
       "  0%|          | 0/18 [00:00<?, ?it/s]"
      ]
     },
     "metadata": {},
     "output_type": "display_data"
    },
    {
     "name": "stdout",
     "output_type": "stream",
     "text": [
      "{'eval_loss': 1.6194648742675781, 'eval_f1': 0.7563631631692318, 'eval_runtime': 1.099, 'eval_samples_per_second': 381.259, 'eval_steps_per_second': 16.379, 'epoch': 28.57}\n"
     ]
    },
    {
     "data": {
      "application/vnd.jupyter.widget-view+json": {
       "model_id": "ce93f271396441ad832f4a2543641c75",
       "version_major": 2,
       "version_minor": 0
      },
      "text/plain": [
       "  0%|          | 0/18 [00:00<?, ?it/s]"
      ]
     },
     "metadata": {},
     "output_type": "display_data"
    },
    {
     "name": "stdout",
     "output_type": "stream",
     "text": [
      "{'eval_loss': 1.670838713645935, 'eval_f1': 0.7384710501991607, 'eval_runtime': 1.104, 'eval_samples_per_second': 379.546, 'eval_steps_per_second': 16.305, 'epoch': 29.29}\n"
     ]
    },
    {
     "data": {
      "application/vnd.jupyter.widget-view+json": {
       "model_id": "b1ec5b54ecd54ff786f2fc4065b536e3",
       "version_major": 2,
       "version_minor": 0
      },
      "text/plain": [
       "  0%|          | 0/18 [00:00<?, ?it/s]"
      ]
     },
     "metadata": {},
     "output_type": "display_data"
    },
    {
     "name": "stdout",
     "output_type": "stream",
     "text": [
      "{'eval_loss': 1.7265297174453735, 'eval_f1': 0.7321004870563217, 'eval_runtime': 1.0973, 'eval_samples_per_second': 381.861, 'eval_steps_per_second': 16.405, 'epoch': 30.0}\n"
     ]
    },
    {
     "data": {
      "application/vnd.jupyter.widget-view+json": {
       "model_id": "9e204569aae44f26a2262a5a9c711d3c",
       "version_major": 2,
       "version_minor": 0
      },
      "text/plain": [
       "  0%|          | 0/18 [00:00<?, ?it/s]"
      ]
     },
     "metadata": {},
     "output_type": "display_data"
    },
    {
     "name": "stdout",
     "output_type": "stream",
     "text": [
      "{'eval_loss': 1.6351830959320068, 'eval_f1': 0.7588843621934653, 'eval_runtime': 1.0915, 'eval_samples_per_second': 383.877, 'eval_steps_per_second': 16.491, 'epoch': 30.71}\n"
     ]
    },
    {
     "data": {
      "application/vnd.jupyter.widget-view+json": {
       "model_id": "b0b589ad29664dafaffb91bc8971e882",
       "version_major": 2,
       "version_minor": 0
      },
      "text/plain": [
       "  0%|          | 0/18 [00:00<?, ?it/s]"
      ]
     },
     "metadata": {},
     "output_type": "display_data"
    },
    {
     "name": "stdout",
     "output_type": "stream",
     "text": [
      "{'eval_loss': 1.5841851234436035, 'eval_f1': 0.7366630595858641, 'eval_runtime': 1.1008, 'eval_samples_per_second': 380.641, 'eval_steps_per_second': 16.352, 'epoch': 31.43}\n"
     ]
    },
    {
     "data": {
      "application/vnd.jupyter.widget-view+json": {
       "model_id": "67ca88dd87d44e36a66f3dd0097fcd0f",
       "version_major": 2,
       "version_minor": 0
      },
      "text/plain": [
       "  0%|          | 0/18 [00:00<?, ?it/s]"
      ]
     },
     "metadata": {},
     "output_type": "display_data"
    },
    {
     "name": "stdout",
     "output_type": "stream",
     "text": [
      "{'eval_loss': 1.6323274374008179, 'eval_f1': 0.7336918291163866, 'eval_runtime': 1.0993, 'eval_samples_per_second': 381.135, 'eval_steps_per_second': 16.373, 'epoch': 32.14}\n"
     ]
    },
    {
     "data": {
      "application/vnd.jupyter.widget-view+json": {
       "model_id": "22263f17a4a74916861d0ce807e7f688",
       "version_major": 2,
       "version_minor": 0
      },
      "text/plain": [
       "  0%|          | 0/18 [00:00<?, ?it/s]"
      ]
     },
     "metadata": {},
     "output_type": "display_data"
    },
    {
     "name": "stdout",
     "output_type": "stream",
     "text": [
      "{'eval_loss': 1.757596492767334, 'eval_f1': 0.7531895206492873, 'eval_runtime': 1.0939, 'eval_samples_per_second': 383.049, 'eval_steps_per_second': 16.456, 'epoch': 32.86}\n"
     ]
    },
    {
     "data": {
      "application/vnd.jupyter.widget-view+json": {
       "model_id": "fbbee533881042ca8e3fa3086d8ca131",
       "version_major": 2,
       "version_minor": 0
      },
      "text/plain": [
       "  0%|          | 0/18 [00:00<?, ?it/s]"
      ]
     },
     "metadata": {},
     "output_type": "display_data"
    },
    {
     "name": "stdout",
     "output_type": "stream",
     "text": [
      "{'eval_loss': 1.7460246086120605, 'eval_f1': 0.7238546003811448, 'eval_runtime': 1.0954, 'eval_samples_per_second': 382.501, 'eval_steps_per_second': 16.432, 'epoch': 33.57}\n"
     ]
    },
    {
     "data": {
      "application/vnd.jupyter.widget-view+json": {
       "model_id": "44d16bd6aad343e48228f013f8665cf0",
       "version_major": 2,
       "version_minor": 0
      },
      "text/plain": [
       "  0%|          | 0/18 [00:00<?, ?it/s]"
      ]
     },
     "metadata": {},
     "output_type": "display_data"
    },
    {
     "name": "stdout",
     "output_type": "stream",
     "text": [
      "{'eval_loss': 1.6283634901046753, 'eval_f1': 0.7463423261438725, 'eval_runtime': 1.0983, 'eval_samples_per_second': 381.485, 'eval_steps_per_second': 16.388, 'epoch': 34.29}\n"
     ]
    },
    {
     "data": {
      "application/vnd.jupyter.widget-view+json": {
       "model_id": "6fdf2f95637f4b359f4c05d8a79fe368",
       "version_major": 2,
       "version_minor": 0
      },
      "text/plain": [
       "  0%|          | 0/18 [00:00<?, ?it/s]"
      ]
     },
     "metadata": {},
     "output_type": "display_data"
    },
    {
     "name": "stdout",
     "output_type": "stream",
     "text": [
      "{'eval_loss': 1.7110780477523804, 'eval_f1': 0.7603819895892265, 'eval_runtime': 1.0897, 'eval_samples_per_second': 384.508, 'eval_steps_per_second': 16.518, 'epoch': 35.0}\n"
     ]
    },
    {
     "data": {
      "application/vnd.jupyter.widget-view+json": {
       "model_id": "c55039bd59bb4225baeb7ea064daae5f",
       "version_major": 2,
       "version_minor": 0
      },
      "text/plain": [
       "  0%|          | 0/18 [00:00<?, ?it/s]"
      ]
     },
     "metadata": {},
     "output_type": "display_data"
    },
    {
     "name": "stdout",
     "output_type": "stream",
     "text": [
      "{'eval_loss': 1.7494150400161743, 'eval_f1': 0.7158452547913687, 'eval_runtime': 1.0941, 'eval_samples_per_second': 382.955, 'eval_steps_per_second': 16.452, 'epoch': 35.71}\n"
     ]
    },
    {
     "data": {
      "application/vnd.jupyter.widget-view+json": {
       "model_id": "debe1e38bdd946eaade27a61a4684dd7",
       "version_major": 2,
       "version_minor": 0
      },
      "text/plain": [
       "  0%|          | 0/18 [00:00<?, ?it/s]"
      ]
     },
     "metadata": {},
     "output_type": "display_data"
    },
    {
     "name": "stdout",
     "output_type": "stream",
     "text": [
      "{'eval_loss': 1.7164466381072998, 'eval_f1': 0.7111538649786542, 'eval_runtime': 1.1005, 'eval_samples_per_second': 380.727, 'eval_steps_per_second': 16.356, 'epoch': 36.43}\n"
     ]
    },
    {
     "data": {
      "application/vnd.jupyter.widget-view+json": {
       "model_id": "c8622002da1042a99295f689c664627e",
       "version_major": 2,
       "version_minor": 0
      },
      "text/plain": [
       "  0%|          | 0/18 [00:00<?, ?it/s]"
      ]
     },
     "metadata": {},
     "output_type": "display_data"
    },
    {
     "name": "stdout",
     "output_type": "stream",
     "text": [
      "{'eval_loss': 1.7832368612289429, 'eval_f1': 0.6991297700214172, 'eval_runtime': 1.0894, 'eval_samples_per_second': 384.604, 'eval_steps_per_second': 16.522, 'epoch': 37.14}\n"
     ]
    },
    {
     "data": {
      "application/vnd.jupyter.widget-view+json": {
       "model_id": "3019681d9eb343c09e056aef666e38e1",
       "version_major": 2,
       "version_minor": 0
      },
      "text/plain": [
       "  0%|          | 0/18 [00:00<?, ?it/s]"
      ]
     },
     "metadata": {},
     "output_type": "display_data"
    },
    {
     "name": "stdout",
     "output_type": "stream",
     "text": [
      "{'eval_loss': 1.776075839996338, 'eval_f1': 0.7137739061149538, 'eval_runtime': 1.1069, 'eval_samples_per_second': 378.541, 'eval_steps_per_second': 16.262, 'epoch': 37.86}\n"
     ]
    },
    {
     "data": {
      "application/vnd.jupyter.widget-view+json": {
       "model_id": "159cf12d01c14299a9409d8b2bd47369",
       "version_major": 2,
       "version_minor": 0
      },
      "text/plain": [
       "  0%|          | 0/18 [00:00<?, ?it/s]"
      ]
     },
     "metadata": {},
     "output_type": "display_data"
    },
    {
     "name": "stdout",
     "output_type": "stream",
     "text": [
      "{'eval_loss': 1.8271026611328125, 'eval_f1': 0.7103761116556506, 'eval_runtime': 1.1043, 'eval_samples_per_second': 379.412, 'eval_steps_per_second': 16.299, 'epoch': 38.57}\n"
     ]
    },
    {
     "data": {
      "application/vnd.jupyter.widget-view+json": {
       "model_id": "0de1528d96c44cdeb7b5921dc3ae4773",
       "version_major": 2,
       "version_minor": 0
      },
      "text/plain": [
       "  0%|          | 0/18 [00:00<?, ?it/s]"
      ]
     },
     "metadata": {},
     "output_type": "display_data"
    },
    {
     "name": "stdout",
     "output_type": "stream",
     "text": [
      "{'eval_loss': 1.8178011178970337, 'eval_f1': 0.7261217389282868, 'eval_runtime': 1.0975, 'eval_samples_per_second': 381.785, 'eval_steps_per_second': 16.401, 'epoch': 39.29}\n"
     ]
    },
    {
     "data": {
      "application/vnd.jupyter.widget-view+json": {
       "model_id": "73d242ccbc64497baff26c88aaf63b67",
       "version_major": 2,
       "version_minor": 0
      },
      "text/plain": [
       "  0%|          | 0/18 [00:00<?, ?it/s]"
      ]
     },
     "metadata": {},
     "output_type": "display_data"
    },
    {
     "name": "stdout",
     "output_type": "stream",
     "text": [
      "{'eval_loss': 1.8850709199905396, 'eval_f1': 0.7087101659112529, 'eval_runtime': 1.0944, 'eval_samples_per_second': 382.862, 'eval_steps_per_second': 16.448, 'epoch': 40.0}\n"
     ]
    },
    {
     "data": {
      "application/vnd.jupyter.widget-view+json": {
       "model_id": "b820dc7a6cd94d0dbd08a6f50a47653d",
       "version_major": 2,
       "version_minor": 0
      },
      "text/plain": [
       "  0%|          | 0/18 [00:00<?, ?it/s]"
      ]
     },
     "metadata": {},
     "output_type": "display_data"
    },
    {
     "name": "stdout",
     "output_type": "stream",
     "text": [
      "{'eval_loss': 1.9118168354034424, 'eval_f1': 0.7089670933773914, 'eval_runtime': 1.0919, 'eval_samples_per_second': 383.741, 'eval_steps_per_second': 16.485, 'epoch': 40.71}\n"
     ]
    },
    {
     "data": {
      "application/vnd.jupyter.widget-view+json": {
       "model_id": "47c8021bab8449d889957a97a88a873e",
       "version_major": 2,
       "version_minor": 0
      },
      "text/plain": [
       "  0%|          | 0/18 [00:00<?, ?it/s]"
      ]
     },
     "metadata": {},
     "output_type": "display_data"
    },
    {
     "name": "stdout",
     "output_type": "stream",
     "text": [
      "{'eval_loss': 1.937444806098938, 'eval_f1': 0.7470588448797078, 'eval_runtime': 1.0985, 'eval_samples_per_second': 381.413, 'eval_steps_per_second': 16.385, 'epoch': 41.43}\n"
     ]
    },
    {
     "data": {
      "application/vnd.jupyter.widget-view+json": {
       "model_id": "9a903aad542e45bfa0f63453a7dea076",
       "version_major": 2,
       "version_minor": 0
      },
      "text/plain": [
       "  0%|          | 0/18 [00:00<?, ?it/s]"
      ]
     },
     "metadata": {},
     "output_type": "display_data"
    },
    {
     "name": "stdout",
     "output_type": "stream",
     "text": [
      "{'eval_loss': 1.7976540327072144, 'eval_f1': 0.7252726194394441, 'eval_runtime': 1.0955, 'eval_samples_per_second': 382.457, 'eval_steps_per_second': 16.43, 'epoch': 42.14}\n"
     ]
    },
    {
     "data": {
      "application/vnd.jupyter.widget-view+json": {
       "model_id": "91407e0c3ae6400aa6c92c5cf2235516",
       "version_major": 2,
       "version_minor": 0
      },
      "text/plain": [
       "  0%|          | 0/18 [00:00<?, ?it/s]"
      ]
     },
     "metadata": {},
     "output_type": "display_data"
    },
    {
     "name": "stdout",
     "output_type": "stream",
     "text": [
      "{'eval_loss': 1.8841207027435303, 'eval_f1': 0.7202351010982939, 'eval_runtime': 1.0923, 'eval_samples_per_second': 383.6, 'eval_steps_per_second': 16.479, 'epoch': 42.86}\n"
     ]
    },
    {
     "data": {
      "application/vnd.jupyter.widget-view+json": {
       "model_id": "38d3fcd04fb94dc1962c2faff6816bcd",
       "version_major": 2,
       "version_minor": 0
      },
      "text/plain": [
       "  0%|          | 0/18 [00:00<?, ?it/s]"
      ]
     },
     "metadata": {},
     "output_type": "display_data"
    },
    {
     "name": "stdout",
     "output_type": "stream",
     "text": [
      "{'eval_loss': 2.0452849864959717, 'eval_f1': 0.7422413821214938, 'eval_runtime': 1.1004, 'eval_samples_per_second': 380.78, 'eval_steps_per_second': 16.358, 'epoch': 43.57}\n"
     ]
    },
    {
     "data": {
      "application/vnd.jupyter.widget-view+json": {
       "model_id": "f54db8ee67304fd2a90bc6738a0f959b",
       "version_major": 2,
       "version_minor": 0
      },
      "text/plain": [
       "  0%|          | 0/18 [00:00<?, ?it/s]"
      ]
     },
     "metadata": {},
     "output_type": "display_data"
    },
    {
     "name": "stdout",
     "output_type": "stream",
     "text": [
      "{'eval_loss': 1.902132272720337, 'eval_f1': 0.7321022706424839, 'eval_runtime': 1.103, 'eval_samples_per_second': 379.858, 'eval_steps_per_second': 16.318, 'epoch': 44.29}\n"
     ]
    },
    {
     "data": {
      "application/vnd.jupyter.widget-view+json": {
       "model_id": "115fd61fbd6242da8dc88055327e1f13",
       "version_major": 2,
       "version_minor": 0
      },
      "text/plain": [
       "  0%|          | 0/18 [00:00<?, ?it/s]"
      ]
     },
     "metadata": {},
     "output_type": "display_data"
    },
    {
     "name": "stdout",
     "output_type": "stream",
     "text": [
      "{'eval_loss': 1.9669971466064453, 'eval_f1': 0.7269858492204142, 'eval_runtime': 1.0983, 'eval_samples_per_second': 381.484, 'eval_steps_per_second': 16.388, 'epoch': 45.0}\n"
     ]
    },
    {
     "data": {
      "application/vnd.jupyter.widget-view+json": {
       "model_id": "8e8050797e364129afd825e0efd0354c",
       "version_major": 2,
       "version_minor": 0
      },
      "text/plain": [
       "  0%|          | 0/18 [00:00<?, ?it/s]"
      ]
     },
     "metadata": {},
     "output_type": "display_data"
    },
    {
     "name": "stdout",
     "output_type": "stream",
     "text": [
      "{'eval_loss': 1.8869584798812866, 'eval_f1': 0.7338410284257042, 'eval_runtime': 1.0956, 'eval_samples_per_second': 382.429, 'eval_steps_per_second': 16.429, 'epoch': 45.71}\n"
     ]
    },
    {
     "data": {
      "application/vnd.jupyter.widget-view+json": {
       "model_id": "882b6c50d02f402b8270489aa59a43bb",
       "version_major": 2,
       "version_minor": 0
      },
      "text/plain": [
       "  0%|          | 0/18 [00:00<?, ?it/s]"
      ]
     },
     "metadata": {},
     "output_type": "display_data"
    },
    {
     "name": "stdout",
     "output_type": "stream",
     "text": [
      "{'eval_loss': 1.9589576721191406, 'eval_f1': 0.7393021208169892, 'eval_runtime': 1.111, 'eval_samples_per_second': 377.127, 'eval_steps_per_second': 16.201, 'epoch': 46.43}\n"
     ]
    },
    {
     "data": {
      "application/vnd.jupyter.widget-view+json": {
       "model_id": "e856c220bfbd438eb184d67251cd8578",
       "version_major": 2,
       "version_minor": 0
      },
      "text/plain": [
       "  0%|          | 0/18 [00:00<?, ?it/s]"
      ]
     },
     "metadata": {},
     "output_type": "display_data"
    },
    {
     "name": "stdout",
     "output_type": "stream",
     "text": [
      "{'eval_loss': 1.9856116771697998, 'eval_f1': 0.7449120967824081, 'eval_runtime': 1.0984, 'eval_samples_per_second': 381.457, 'eval_steps_per_second': 16.387, 'epoch': 47.14}\n"
     ]
    },
    {
     "data": {
      "application/vnd.jupyter.widget-view+json": {
       "model_id": "a93f82b9c9f14c9785a40158a97a78bf",
       "version_major": 2,
       "version_minor": 0
      },
      "text/plain": [
       "  0%|          | 0/18 [00:00<?, ?it/s]"
      ]
     },
     "metadata": {},
     "output_type": "display_data"
    },
    {
     "name": "stdout",
     "output_type": "stream",
     "text": [
      "{'eval_loss': 1.9696930646896362, 'eval_f1': 0.7299256207859984, 'eval_runtime': 1.0974, 'eval_samples_per_second': 381.82, 'eval_steps_per_second': 16.403, 'epoch': 47.86}\n"
     ]
    },
    {
     "data": {
      "application/vnd.jupyter.widget-view+json": {
       "model_id": "5f127b92ad774cda973cc01e85eeb5dd",
       "version_major": 2,
       "version_minor": 0
      },
      "text/plain": [
       "  0%|          | 0/18 [00:00<?, ?it/s]"
      ]
     },
     "metadata": {},
     "output_type": "display_data"
    },
    {
     "name": "stdout",
     "output_type": "stream",
     "text": [
      "{'eval_loss': 1.9809372425079346, 'eval_f1': 0.7287171763006237, 'eval_runtime': 1.0963, 'eval_samples_per_second': 382.178, 'eval_steps_per_second': 16.418, 'epoch': 48.57}\n"
     ]
    },
    {
     "data": {
      "application/vnd.jupyter.widget-view+json": {
       "model_id": "64e69d1559bf4493946de58eba3f5e90",
       "version_major": 2,
       "version_minor": 0
      },
      "text/plain": [
       "  0%|          | 0/18 [00:00<?, ?it/s]"
      ]
     },
     "metadata": {},
     "output_type": "display_data"
    },
    {
     "name": "stdout",
     "output_type": "stream",
     "text": [
      "{'eval_loss': 1.9771294593811035, 'eval_f1': 0.7323114694838229, 'eval_runtime': 1.1081, 'eval_samples_per_second': 378.131, 'eval_steps_per_second': 16.244, 'epoch': 49.29}\n"
     ]
    },
    {
     "data": {
      "application/vnd.jupyter.widget-view+json": {
       "model_id": "0f9ffa4abeb3461e8ad61648beacff7d",
       "version_major": 2,
       "version_minor": 0
      },
      "text/plain": [
       "  0%|          | 0/18 [00:00<?, ?it/s]"
      ]
     },
     "metadata": {},
     "output_type": "display_data"
    },
    {
     "name": "stdout",
     "output_type": "stream",
     "text": [
      "{'eval_loss': 1.9682074785232544, 'eval_f1': 0.7283656589130723, 'eval_runtime': 1.0934, 'eval_samples_per_second': 383.208, 'eval_steps_per_second': 16.462, 'epoch': 50.0}\n",
      "{'train_runtime': 721.136, 'train_samples_per_second': 116.067, 'train_steps_per_second': 4.853, 'train_loss': 0.28922591727120534, 'epoch': 50.0}\n"
     ]
    },
    {
     "data": {
      "text/plain": [
       "TrainOutput(global_step=3500, training_loss=0.28922591727120534, metrics={'train_runtime': 721.136, 'train_samples_per_second': 116.067, 'train_steps_per_second': 4.853, 'train_loss': 0.28922591727120534, 'epoch': 50.0})"
      ]
     },
     "execution_count": 32,
     "metadata": {},
     "output_type": "execute_result"
    }
   ],
   "source": [
    "trainer.train()"
   ]
  },
  {
   "cell_type": "code",
   "execution_count": 33,
   "id": "92c46925",
   "metadata": {},
   "outputs": [
    {
     "name": "stderr",
     "output_type": "stream",
     "text": [
      "100%|██████████| 419/419 [00:03<00:00, 125.78it/s]\n"
     ]
    }
   ],
   "source": [
    "from tqdm import tqdm\n",
    "\n",
    "\n",
    "y_pred = []\n",
    "y_true = tokenized_dataset[\"test\"]['labels']\n",
    "with torch.no_grad():\n",
    "    for i in tqdm(range(len(tokenized_dataset[\"test\"]))):\n",
    "        logits = model(**tokenizer(tokenized_dataset[\"test\"][i]['text'], max_length=512, truncation=True, return_tensors=\"pt\").to(device))\n",
    "    \n",
    "        predicted_class_id = logits.logits.argmax().item()\n",
    "        # model.config.id2label[predicted_class_id]\n",
    "    \n",
    "        y_pred.append(predicted_class_id)\n"
   ]
  },
  {
   "cell_type": "code",
   "execution_count": 34,
   "id": "8f1679d5",
   "metadata": {},
   "outputs": [
    {
     "data": {
      "text/plain": [
       "0.7603819895892265"
      ]
     },
     "execution_count": 34,
     "metadata": {},
     "output_type": "execute_result"
    }
   ],
   "source": [
    "from sklearn.metrics import f1_score, recall_score, precision_score, classification_report\n",
    "\n",
    "f1_score(y_true, y_pred, average='macro')"
   ]
  },
  {
   "cell_type": "code",
   "execution_count": 35,
   "id": "89c3ea2c",
   "metadata": {},
   "outputs": [
    {
     "data": {
      "text/plain": [
       "0.7371358880090497"
      ]
     },
     "execution_count": 35,
     "metadata": {},
     "output_type": "execute_result"
    }
   ],
   "source": [
    "recall_score(y_true, y_pred, average='macro')"
   ]
  },
  {
   "cell_type": "code",
   "execution_count": 36,
   "id": "963760ea",
   "metadata": {},
   "outputs": [
    {
     "data": {
      "text/plain": [
       "0.7954706498249191"
      ]
     },
     "execution_count": 36,
     "metadata": {},
     "output_type": "execute_result"
    }
   ],
   "source": [
    "precision_score(y_true, y_pred, average='macro')"
   ]
  },
  {
   "cell_type": "code",
   "execution_count": 37,
   "id": "277e0f2f",
   "metadata": {},
   "outputs": [
    {
     "name": "stdout",
     "output_type": "stream",
     "text": [
      "              precision    recall  f1-score   support\n",
      "\n",
      "           0       0.93      0.78      0.85        32\n",
      "           2       1.00      1.00      1.00        11\n",
      "           3       0.71      0.80      0.75        30\n",
      "           4       0.72      0.69      0.70        91\n",
      "           5       1.00      0.75      0.86         4\n",
      "           6       0.80      0.82      0.81       221\n",
      "           7       0.50      0.55      0.52        20\n",
      "           8       0.71      0.50      0.59        10\n",
      "\n",
      "    accuracy                           0.77       419\n",
      "   macro avg       0.80      0.74      0.76       419\n",
      "weighted avg       0.78      0.77      0.77       419\n",
      "\n"
     ]
    }
   ],
   "source": [
    "print(classification_report(y_true, y_pred))"
   ]
  },
  {
   "cell_type": "code",
   "execution_count": 38,
   "id": "ebac4950",
   "metadata": {},
   "outputs": [],
   "source": [
    "eval_loss_history = []\n",
    "eval_f1_history = []\n",
    "steps = []\n",
    "for obj in trainer.state.log_history:\n",
    "    eval_loss_history.append(obj.get('eval_loss'))\n",
    "    steps.append(obj.get('step'))\n",
    "    eval_f1_history.append(obj.get('eval_f1'))"
   ]
  },
  {
   "cell_type": "code",
   "execution_count": 39,
   "id": "8f147b68",
   "metadata": {},
   "outputs": [],
   "source": [
    "eval_loss_history = eval_loss_history[:-1]\n",
    "eval_f1_history = eval_f1_history[:-1]\n",
    "steps = steps[:-1]"
   ]
  },
  {
   "cell_type": "code",
   "execution_count": 40,
   "id": "339da500",
   "metadata": {},
   "outputs": [
    {
     "data": {
      "text/plain": [
       "<Axes: >"
      ]
     },
     "execution_count": 40,
     "metadata": {},
     "output_type": "execute_result"
    },
    {
     "data": {
      "image/png": "[encoded data removed]",
      "text/plain": [
       "<Figure size 640x480 with 1 Axes>"
      ]
     },
     "metadata": {},
     "output_type": "display_data"
    }
   ],
   "source": [
    "sns.lineplot(x=steps[:len(steps)//4], y=eval_loss_history[:len(eval_loss_history)//4])"
   ]
  },
  {
   "cell_type": "code",
   "execution_count": 41,
   "id": "95c1ac38",
   "metadata": {},
   "outputs": [
    {
     "data": {
      "text/plain": [
       "<Axes: >"
      ]
     },
     "execution_count": 41,
     "metadata": {},
     "output_type": "execute_result"
    },
    {
     "data": {
      "image/png": "[encoded data removed]",
      "text/plain": [
       "<Figure size 640x480 with 1 Axes>"
      ]
     },
     "metadata": {},
     "output_type": "display_data"
    }
   ],
   "source": [
    "sns.lineplot(x=steps[:len(steps)//3], y=eval_f1_history[:len(steps)//3])"
   ]
  },
  {
   "cell_type": "code",
   "execution_count": null,
   "id": "0839a30c",
   "metadata": {},
   "outputs": [],
   "source": []
  }
 ],
 "metadata": {
  "kernelspec": {
   "display_name": "Python 3 (ipykernel)",
   "language": "python",
   "name": "python3"
  },
  "language_info": {
   "codemirror_mode": {
    "name": "ipython",
    "version": 3
   },
   "file_extension": ".py",
   "mimetype": "text/x-python",
   "name": "python",
   "nbconvert_exporter": "python",
   "pygments_lexer": "ipython3",
   "version": "3.10.11"
  }
 },
 "nbformat": 4,
 "nbformat_minor": 5
}
